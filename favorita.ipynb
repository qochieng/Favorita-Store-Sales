{
 "cells": [
  {
   "cell_type": "markdown",
   "metadata": {},
   "source": [
    "## FAVORITA STORES SALE"
   ]
  },
  {
   "cell_type": "markdown",
   "metadata": {},
   "source": [
    "### HYPOTHESIS\n",
    "Null Hypothesis: Promotions do not affect sales\n",
    "\n",
    "Alternative hypothesis: Promotions increases sales"
   ]
  },
  {
   "cell_type": "markdown",
   "metadata": {},
   "source": [
    "## Data Preparation\n",
    "\n",
    "### Questions\n",
    "\n",
    "The questions below are to be answered. Do note that, you are free to draw more hypothesis from the data.\n",
    "\n",
    "1) Is the train dataset complete (has all the required dates)?\n",
    "\n",
    "2) Which dates have the lowest and highest sales for each year?\n",
    "\n",
    "3) Did the earthquake impact sales?\n",
    "\n",
    "4) Are certain groups of stores selling more products? (Cluster, city, state, type)\n",
    "\n",
    "5) Are sales affected by promotions, oil prices and holidays?\n",
    "\n",
    "6) What analysis can we get from the date and its extractable features?\n",
    "\n",
    "7) What is the difference between RMSLE, RMSE, MSE (or why is the MAE greater than all of them?)"
   ]
  },
  {
   "cell_type": "code",
   "execution_count": 163,
   "metadata": {},
   "outputs": [],
   "source": [
    "# Import the necessary libraries\n",
    "\n",
    "import pyodbc\n",
    "from dotenv import dotenv_values\n",
    "import pandas as pd\n",
    "import numpy as np\n",
    "import matplotlib.pyplot as plt\n",
    "import plotly.express as px\n",
    "import seaborn as sns\n",
    "from sklearn.pipeline import Pipeline\n",
    "from sklearn.impute import SimpleImputer\n",
    "from sklearn.preprocessing import StandardScaler, RobustScaler\n",
    "from sklearn.compose import ColumnTransformer\n",
    "from sklearn.preprocessing import OneHotEncoder,LabelEncoder, OrdinalEncoder\n",
    "import warnings\n",
    "warnings.filterwarnings('ignore')"
   ]
  },
  {
   "cell_type": "code",
   "execution_count": 164,
   "metadata": {},
   "outputs": [],
   "source": [
    "# Load environment variables from .env file into a dictionary\n",
    "db_variables = dotenv_values('.env')\n",
    "\n",
    "\n",
    "# Get the values for the credentials you set in the '.env' file\n",
    "server = db_variables.get(\"SERVER\")\n",
    "database = db_variables.get(\"DATABASE\")\n",
    "username = db_variables.get(\"USER\")\n",
    "password = db_variables.get(\"PASSWORD\")\n",
    "\n",
    "connection = f\"DRIVER={{ODBC Driver 18 for SQL Server}};SERVER={server};DATABASE={database};UID={username};PWD={password};MARS_Connection=yes;MinProtocolVersion=TLSv1.2;\""
   ]
  },
  {
   "cell_type": "code",
   "execution_count": 165,
   "metadata": {},
   "outputs": [],
   "source": [
    "# Connect to the tables in the db\n",
    "\n",
    "conn = pyodbc.connect(connection)\n",
    "\n",
    "query = \"SELECT * FROM dbo.oil\"\n",
    "query1 = \"SELECT * FROM dbo.holidays_events\"\n",
    "query2 = \"SELECT * FROM dbo.stores\""
   ]
  },
  {
   "cell_type": "markdown",
   "metadata": {},
   "source": [
    "### 1st Dataset"
   ]
  },
  {
   "cell_type": "code",
   "execution_count": 166,
   "metadata": {},
   "outputs": [
    {
     "data": {
      "text/html": [
       "<div>\n",
       "<style scoped>\n",
       "    .dataframe tbody tr th:only-of-type {\n",
       "        vertical-align: middle;\n",
       "    }\n",
       "\n",
       "    .dataframe tbody tr th {\n",
       "        vertical-align: top;\n",
       "    }\n",
       "\n",
       "    .dataframe thead th {\n",
       "        text-align: right;\n",
       "    }\n",
       "</style>\n",
       "<table border=\"1\" class=\"dataframe\">\n",
       "  <thead>\n",
       "    <tr style=\"text-align: right;\">\n",
       "      <th></th>\n",
       "      <th>date</th>\n",
       "      <th>dcoilwtico</th>\n",
       "    </tr>\n",
       "  </thead>\n",
       "  <tbody>\n",
       "    <tr>\n",
       "      <th>0</th>\n",
       "      <td>2013-01-01</td>\n",
       "      <td>NaN</td>\n",
       "    </tr>\n",
       "    <tr>\n",
       "      <th>1</th>\n",
       "      <td>2013-01-02</td>\n",
       "      <td>93.139999</td>\n",
       "    </tr>\n",
       "    <tr>\n",
       "      <th>2</th>\n",
       "      <td>2013-01-03</td>\n",
       "      <td>92.970001</td>\n",
       "    </tr>\n",
       "    <tr>\n",
       "      <th>3</th>\n",
       "      <td>2013-01-04</td>\n",
       "      <td>93.120003</td>\n",
       "    </tr>\n",
       "    <tr>\n",
       "      <th>4</th>\n",
       "      <td>2013-01-07</td>\n",
       "      <td>93.199997</td>\n",
       "    </tr>\n",
       "  </tbody>\n",
       "</table>\n",
       "</div>"
      ],
      "text/plain": [
       "         date  dcoilwtico\n",
       "0  2013-01-01         NaN\n",
       "1  2013-01-02   93.139999\n",
       "2  2013-01-03   92.970001\n",
       "3  2013-01-04   93.120003\n",
       "4  2013-01-07   93.199997"
      ]
     },
     "execution_count": 166,
     "metadata": {},
     "output_type": "execute_result"
    }
   ],
   "source": [
    "# dbo.oil\n",
    "\n",
    "oil = pd.read_sql(query,conn)\n",
    "oil.head()"
   ]
  },
  {
   "cell_type": "code",
   "execution_count": 167,
   "metadata": {},
   "outputs": [
    {
     "data": {
      "text/html": [
       "<div>\n",
       "<style scoped>\n",
       "    .dataframe tbody tr th:only-of-type {\n",
       "        vertical-align: middle;\n",
       "    }\n",
       "\n",
       "    .dataframe tbody tr th {\n",
       "        vertical-align: top;\n",
       "    }\n",
       "\n",
       "    .dataframe thead th {\n",
       "        text-align: right;\n",
       "    }\n",
       "</style>\n",
       "<table border=\"1\" class=\"dataframe\">\n",
       "  <thead>\n",
       "    <tr style=\"text-align: right;\">\n",
       "      <th></th>\n",
       "      <th>date</th>\n",
       "      <th>type</th>\n",
       "      <th>locale</th>\n",
       "      <th>locale_name</th>\n",
       "      <th>description</th>\n",
       "      <th>transferred</th>\n",
       "    </tr>\n",
       "  </thead>\n",
       "  <tbody>\n",
       "    <tr>\n",
       "      <th>0</th>\n",
       "      <td>2012-03-02</td>\n",
       "      <td>Holiday</td>\n",
       "      <td>Local</td>\n",
       "      <td>Manta</td>\n",
       "      <td>Fundacion de Manta</td>\n",
       "      <td>False</td>\n",
       "    </tr>\n",
       "    <tr>\n",
       "      <th>1</th>\n",
       "      <td>2012-04-01</td>\n",
       "      <td>Holiday</td>\n",
       "      <td>Regional</td>\n",
       "      <td>Cotopaxi</td>\n",
       "      <td>Provincializacion de Cotopaxi</td>\n",
       "      <td>False</td>\n",
       "    </tr>\n",
       "    <tr>\n",
       "      <th>2</th>\n",
       "      <td>2012-04-12</td>\n",
       "      <td>Holiday</td>\n",
       "      <td>Local</td>\n",
       "      <td>Cuenca</td>\n",
       "      <td>Fundacion de Cuenca</td>\n",
       "      <td>False</td>\n",
       "    </tr>\n",
       "    <tr>\n",
       "      <th>3</th>\n",
       "      <td>2012-04-14</td>\n",
       "      <td>Holiday</td>\n",
       "      <td>Local</td>\n",
       "      <td>Libertad</td>\n",
       "      <td>Cantonizacion de Libertad</td>\n",
       "      <td>False</td>\n",
       "    </tr>\n",
       "    <tr>\n",
       "      <th>4</th>\n",
       "      <td>2012-04-21</td>\n",
       "      <td>Holiday</td>\n",
       "      <td>Local</td>\n",
       "      <td>Riobamba</td>\n",
       "      <td>Cantonizacion de Riobamba</td>\n",
       "      <td>False</td>\n",
       "    </tr>\n",
       "  </tbody>\n",
       "</table>\n",
       "</div>"
      ],
      "text/plain": [
       "         date     type    locale locale_name                    description  \\\n",
       "0  2012-03-02  Holiday     Local       Manta             Fundacion de Manta   \n",
       "1  2012-04-01  Holiday  Regional    Cotopaxi  Provincializacion de Cotopaxi   \n",
       "2  2012-04-12  Holiday     Local      Cuenca            Fundacion de Cuenca   \n",
       "3  2012-04-14  Holiday     Local    Libertad      Cantonizacion de Libertad   \n",
       "4  2012-04-21  Holiday     Local    Riobamba      Cantonizacion de Riobamba   \n",
       "\n",
       "   transferred  \n",
       "0        False  \n",
       "1        False  \n",
       "2        False  \n",
       "3        False  \n",
       "4        False  "
      ]
     },
     "execution_count": 167,
     "metadata": {},
     "output_type": "execute_result"
    }
   ],
   "source": [
    "# dbo.holidays_events\n",
    "\n",
    "holidays_events = pd.read_sql(query1,conn)\n",
    "holidays_events.head()"
   ]
  },
  {
   "cell_type": "code",
   "execution_count": 168,
   "metadata": {},
   "outputs": [
    {
     "data": {
      "text/html": [
       "<div>\n",
       "<style scoped>\n",
       "    .dataframe tbody tr th:only-of-type {\n",
       "        vertical-align: middle;\n",
       "    }\n",
       "\n",
       "    .dataframe tbody tr th {\n",
       "        vertical-align: top;\n",
       "    }\n",
       "\n",
       "    .dataframe thead th {\n",
       "        text-align: right;\n",
       "    }\n",
       "</style>\n",
       "<table border=\"1\" class=\"dataframe\">\n",
       "  <thead>\n",
       "    <tr style=\"text-align: right;\">\n",
       "      <th></th>\n",
       "      <th>store_nbr</th>\n",
       "      <th>city</th>\n",
       "      <th>state</th>\n",
       "      <th>type</th>\n",
       "      <th>cluster</th>\n",
       "    </tr>\n",
       "  </thead>\n",
       "  <tbody>\n",
       "    <tr>\n",
       "      <th>0</th>\n",
       "      <td>1</td>\n",
       "      <td>Quito</td>\n",
       "      <td>Pichincha</td>\n",
       "      <td>D</td>\n",
       "      <td>13</td>\n",
       "    </tr>\n",
       "    <tr>\n",
       "      <th>1</th>\n",
       "      <td>2</td>\n",
       "      <td>Quito</td>\n",
       "      <td>Pichincha</td>\n",
       "      <td>D</td>\n",
       "      <td>13</td>\n",
       "    </tr>\n",
       "    <tr>\n",
       "      <th>2</th>\n",
       "      <td>3</td>\n",
       "      <td>Quito</td>\n",
       "      <td>Pichincha</td>\n",
       "      <td>D</td>\n",
       "      <td>8</td>\n",
       "    </tr>\n",
       "    <tr>\n",
       "      <th>3</th>\n",
       "      <td>4</td>\n",
       "      <td>Quito</td>\n",
       "      <td>Pichincha</td>\n",
       "      <td>D</td>\n",
       "      <td>9</td>\n",
       "    </tr>\n",
       "    <tr>\n",
       "      <th>4</th>\n",
       "      <td>5</td>\n",
       "      <td>Santo Domingo</td>\n",
       "      <td>Santo Domingo de los Tsachilas</td>\n",
       "      <td>D</td>\n",
       "      <td>4</td>\n",
       "    </tr>\n",
       "  </tbody>\n",
       "</table>\n",
       "</div>"
      ],
      "text/plain": [
       "   store_nbr           city                           state type  cluster\n",
       "0          1          Quito                       Pichincha    D       13\n",
       "1          2          Quito                       Pichincha    D       13\n",
       "2          3          Quito                       Pichincha    D        8\n",
       "3          4          Quito                       Pichincha    D        9\n",
       "4          5  Santo Domingo  Santo Domingo de los Tsachilas    D        4"
      ]
     },
     "execution_count": 168,
     "metadata": {},
     "output_type": "execute_result"
    }
   ],
   "source": [
    "# dbo.stores\n",
    "\n",
    "stores = pd.read_sql(query2,conn)\n",
    "stores.head()"
   ]
  },
  {
   "cell_type": "code",
   "execution_count": 169,
   "metadata": {},
   "outputs": [
    {
     "name": "stdout",
     "output_type": "stream",
     "text": [
      "<class 'pandas.core.frame.DataFrame'>\n",
      "RangeIndex: 1218 entries, 0 to 1217\n",
      "Data columns (total 2 columns):\n",
      " #   Column      Non-Null Count  Dtype  \n",
      "---  ------      --------------  -----  \n",
      " 0   date        1218 non-null   object \n",
      " 1   dcoilwtico  1175 non-null   float64\n",
      "dtypes: float64(1), object(1)\n",
      "memory usage: 19.2+ KB\n"
     ]
    }
   ],
   "source": [
    "oil.info()"
   ]
  },
  {
   "cell_type": "code",
   "execution_count": 170,
   "metadata": {},
   "outputs": [
    {
     "name": "stdout",
     "output_type": "stream",
     "text": [
      "<class 'pandas.core.frame.DataFrame'>\n",
      "RangeIndex: 350 entries, 0 to 349\n",
      "Data columns (total 6 columns):\n",
      " #   Column       Non-Null Count  Dtype \n",
      "---  ------       --------------  ----- \n",
      " 0   date         350 non-null    object\n",
      " 1   type         350 non-null    object\n",
      " 2   locale       350 non-null    object\n",
      " 3   locale_name  350 non-null    object\n",
      " 4   description  350 non-null    object\n",
      " 5   transferred  350 non-null    bool  \n",
      "dtypes: bool(1), object(5)\n",
      "memory usage: 14.1+ KB\n"
     ]
    }
   ],
   "source": [
    "holidays_events.info()"
   ]
  },
  {
   "cell_type": "code",
   "execution_count": 171,
   "metadata": {},
   "outputs": [
    {
     "name": "stdout",
     "output_type": "stream",
     "text": [
      "<class 'pandas.core.frame.DataFrame'>\n",
      "RangeIndex: 54 entries, 0 to 53\n",
      "Data columns (total 5 columns):\n",
      " #   Column     Non-Null Count  Dtype \n",
      "---  ------     --------------  ----- \n",
      " 0   store_nbr  54 non-null     int64 \n",
      " 1   city       54 non-null     object\n",
      " 2   state      54 non-null     object\n",
      " 3   type       54 non-null     object\n",
      " 4   cluster    54 non-null     int64 \n",
      "dtypes: int64(2), object(3)\n",
      "memory usage: 2.2+ KB\n"
     ]
    }
   ],
   "source": [
    "stores.info()"
   ]
  },
  {
   "cell_type": "code",
   "execution_count": 172,
   "metadata": {},
   "outputs": [],
   "source": [
    "# To change the date to the correct datatype\n",
    "\n",
    "oil['date'] = pd.to_datetime(oil['date'])\n",
    "holidays_events['date'] = pd.to_datetime(holidays_events['date'])"
   ]
  },
  {
   "cell_type": "markdown",
   "metadata": {},
   "source": [
    "### TEST dataset"
   ]
  },
  {
   "cell_type": "code",
   "execution_count": 173,
   "metadata": {},
   "outputs": [
    {
     "data": {
      "text/html": [
       "<div>\n",
       "<style scoped>\n",
       "    .dataframe tbody tr th:only-of-type {\n",
       "        vertical-align: middle;\n",
       "    }\n",
       "\n",
       "    .dataframe tbody tr th {\n",
       "        vertical-align: top;\n",
       "    }\n",
       "\n",
       "    .dataframe thead th {\n",
       "        text-align: right;\n",
       "    }\n",
       "</style>\n",
       "<table border=\"1\" class=\"dataframe\">\n",
       "  <thead>\n",
       "    <tr style=\"text-align: right;\">\n",
       "      <th></th>\n",
       "      <th>id</th>\n",
       "      <th>sales</th>\n",
       "    </tr>\n",
       "  </thead>\n",
       "  <tbody>\n",
       "    <tr>\n",
       "      <th>0</th>\n",
       "      <td>3000888</td>\n",
       "      <td>0.0</td>\n",
       "    </tr>\n",
       "    <tr>\n",
       "      <th>1</th>\n",
       "      <td>3000889</td>\n",
       "      <td>0.0</td>\n",
       "    </tr>\n",
       "    <tr>\n",
       "      <th>2</th>\n",
       "      <td>3000890</td>\n",
       "      <td>0.0</td>\n",
       "    </tr>\n",
       "    <tr>\n",
       "      <th>3</th>\n",
       "      <td>3000891</td>\n",
       "      <td>0.0</td>\n",
       "    </tr>\n",
       "    <tr>\n",
       "      <th>4</th>\n",
       "      <td>3000892</td>\n",
       "      <td>0.0</td>\n",
       "    </tr>\n",
       "  </tbody>\n",
       "</table>\n",
       "</div>"
      ],
      "text/plain": [
       "        id  sales\n",
       "0  3000888    0.0\n",
       "1  3000889    0.0\n",
       "2  3000890    0.0\n",
       "3  3000891    0.0\n",
       "4  3000892    0.0"
      ]
     },
     "execution_count": 173,
     "metadata": {},
     "output_type": "execute_result"
    }
   ],
   "source": [
    "# sample_submission\n",
    "\n",
    "df_sample = pd.read_csv('sample_submission.csv')\n",
    "df_sample.head()"
   ]
  },
  {
   "cell_type": "code",
   "execution_count": 174,
   "metadata": {},
   "outputs": [
    {
     "data": {
      "text/html": [
       "<div>\n",
       "<style scoped>\n",
       "    .dataframe tbody tr th:only-of-type {\n",
       "        vertical-align: middle;\n",
       "    }\n",
       "\n",
       "    .dataframe tbody tr th {\n",
       "        vertical-align: top;\n",
       "    }\n",
       "\n",
       "    .dataframe thead th {\n",
       "        text-align: right;\n",
       "    }\n",
       "</style>\n",
       "<table border=\"1\" class=\"dataframe\">\n",
       "  <thead>\n",
       "    <tr style=\"text-align: right;\">\n",
       "      <th></th>\n",
       "      <th>id</th>\n",
       "      <th>date</th>\n",
       "      <th>store_nbr</th>\n",
       "      <th>family</th>\n",
       "      <th>onpromotion</th>\n",
       "    </tr>\n",
       "  </thead>\n",
       "  <tbody>\n",
       "    <tr>\n",
       "      <th>0</th>\n",
       "      <td>3000888</td>\n",
       "      <td>2017-08-16</td>\n",
       "      <td>1</td>\n",
       "      <td>AUTOMOTIVE</td>\n",
       "      <td>0</td>\n",
       "    </tr>\n",
       "    <tr>\n",
       "      <th>1</th>\n",
       "      <td>3000889</td>\n",
       "      <td>2017-08-16</td>\n",
       "      <td>1</td>\n",
       "      <td>BABY CARE</td>\n",
       "      <td>0</td>\n",
       "    </tr>\n",
       "    <tr>\n",
       "      <th>2</th>\n",
       "      <td>3000890</td>\n",
       "      <td>2017-08-16</td>\n",
       "      <td>1</td>\n",
       "      <td>BEAUTY</td>\n",
       "      <td>2</td>\n",
       "    </tr>\n",
       "    <tr>\n",
       "      <th>3</th>\n",
       "      <td>3000891</td>\n",
       "      <td>2017-08-16</td>\n",
       "      <td>1</td>\n",
       "      <td>BEVERAGES</td>\n",
       "      <td>20</td>\n",
       "    </tr>\n",
       "    <tr>\n",
       "      <th>4</th>\n",
       "      <td>3000892</td>\n",
       "      <td>2017-08-16</td>\n",
       "      <td>1</td>\n",
       "      <td>BOOKS</td>\n",
       "      <td>0</td>\n",
       "    </tr>\n",
       "  </tbody>\n",
       "</table>\n",
       "</div>"
      ],
      "text/plain": [
       "        id        date  store_nbr      family  onpromotion\n",
       "0  3000888  2017-08-16          1  AUTOMOTIVE            0\n",
       "1  3000889  2017-08-16          1   BABY CARE            0\n",
       "2  3000890  2017-08-16          1      BEAUTY            2\n",
       "3  3000891  2017-08-16          1   BEVERAGES           20\n",
       "4  3000892  2017-08-16          1       BOOKS            0"
      ]
     },
     "execution_count": 174,
     "metadata": {},
     "output_type": "execute_result"
    }
   ],
   "source": [
    "test = pd.read_csv('test.csv')\n",
    "test.head()"
   ]
  },
  {
   "cell_type": "code",
   "execution_count": 175,
   "metadata": {},
   "outputs": [
    {
     "name": "stdout",
     "output_type": "stream",
     "text": [
      "<class 'pandas.core.frame.DataFrame'>\n",
      "RangeIndex: 28512 entries, 0 to 28511\n",
      "Data columns (total 5 columns):\n",
      " #   Column       Non-Null Count  Dtype \n",
      "---  ------       --------------  ----- \n",
      " 0   id           28512 non-null  int64 \n",
      " 1   date         28512 non-null  object\n",
      " 2   store_nbr    28512 non-null  int64 \n",
      " 3   family       28512 non-null  object\n",
      " 4   onpromotion  28512 non-null  int64 \n",
      "dtypes: int64(3), object(2)\n",
      "memory usage: 1.1+ MB\n"
     ]
    }
   ],
   "source": [
    "test.info()"
   ]
  },
  {
   "cell_type": "code",
   "execution_count": 176,
   "metadata": {},
   "outputs": [
    {
     "data": {
      "text/plain": [
       "id             0\n",
       "date           0\n",
       "store_nbr      0\n",
       "family         0\n",
       "onpromotion    0\n",
       "dtype: int64"
      ]
     },
     "execution_count": 176,
     "metadata": {},
     "output_type": "execute_result"
    }
   ],
   "source": [
    "test.isna().sum()"
   ]
  },
  {
   "cell_type": "markdown",
   "metadata": {},
   "source": [
    "### 3rd Dataset"
   ]
  },
  {
   "cell_type": "code",
   "execution_count": 177,
   "metadata": {},
   "outputs": [
    {
     "data": {
      "text/html": [
       "<div>\n",
       "<style scoped>\n",
       "    .dataframe tbody tr th:only-of-type {\n",
       "        vertical-align: middle;\n",
       "    }\n",
       "\n",
       "    .dataframe tbody tr th {\n",
       "        vertical-align: top;\n",
       "    }\n",
       "\n",
       "    .dataframe thead th {\n",
       "        text-align: right;\n",
       "    }\n",
       "</style>\n",
       "<table border=\"1\" class=\"dataframe\">\n",
       "  <thead>\n",
       "    <tr style=\"text-align: right;\">\n",
       "      <th></th>\n",
       "      <th>date</th>\n",
       "      <th>store_nbr</th>\n",
       "      <th>transactions</th>\n",
       "    </tr>\n",
       "  </thead>\n",
       "  <tbody>\n",
       "    <tr>\n",
       "      <th>0</th>\n",
       "      <td>2013-01-01</td>\n",
       "      <td>25</td>\n",
       "      <td>770</td>\n",
       "    </tr>\n",
       "    <tr>\n",
       "      <th>1</th>\n",
       "      <td>2013-01-02</td>\n",
       "      <td>1</td>\n",
       "      <td>2111</td>\n",
       "    </tr>\n",
       "    <tr>\n",
       "      <th>2</th>\n",
       "      <td>2013-01-02</td>\n",
       "      <td>2</td>\n",
       "      <td>2358</td>\n",
       "    </tr>\n",
       "    <tr>\n",
       "      <th>3</th>\n",
       "      <td>2013-01-02</td>\n",
       "      <td>3</td>\n",
       "      <td>3487</td>\n",
       "    </tr>\n",
       "    <tr>\n",
       "      <th>4</th>\n",
       "      <td>2013-01-02</td>\n",
       "      <td>4</td>\n",
       "      <td>1922</td>\n",
       "    </tr>\n",
       "  </tbody>\n",
       "</table>\n",
       "</div>"
      ],
      "text/plain": [
       "         date  store_nbr  transactions\n",
       "0  2013-01-01         25           770\n",
       "1  2013-01-02          1          2111\n",
       "2  2013-01-02          2          2358\n",
       "3  2013-01-02          3          3487\n",
       "4  2013-01-02          4          1922"
      ]
     },
     "execution_count": 177,
     "metadata": {},
     "output_type": "execute_result"
    }
   ],
   "source": [
    "df_trx = pd.read_csv(\"transactions.csv\")\n",
    "df_trx.head()"
   ]
  },
  {
   "cell_type": "code",
   "execution_count": 178,
   "metadata": {},
   "outputs": [
    {
     "data": {
      "text/html": [
       "<div>\n",
       "<style scoped>\n",
       "    .dataframe tbody tr th:only-of-type {\n",
       "        vertical-align: middle;\n",
       "    }\n",
       "\n",
       "    .dataframe tbody tr th {\n",
       "        vertical-align: top;\n",
       "    }\n",
       "\n",
       "    .dataframe thead th {\n",
       "        text-align: right;\n",
       "    }\n",
       "</style>\n",
       "<table border=\"1\" class=\"dataframe\">\n",
       "  <thead>\n",
       "    <tr style=\"text-align: right;\">\n",
       "      <th></th>\n",
       "      <th>id</th>\n",
       "      <th>date</th>\n",
       "      <th>store_nbr</th>\n",
       "      <th>family</th>\n",
       "      <th>sales</th>\n",
       "      <th>onpromotion</th>\n",
       "    </tr>\n",
       "  </thead>\n",
       "  <tbody>\n",
       "    <tr>\n",
       "      <th>0</th>\n",
       "      <td>0</td>\n",
       "      <td>2013-01-01</td>\n",
       "      <td>1</td>\n",
       "      <td>AUTOMOTIVE</td>\n",
       "      <td>0.0</td>\n",
       "      <td>0</td>\n",
       "    </tr>\n",
       "    <tr>\n",
       "      <th>1</th>\n",
       "      <td>1</td>\n",
       "      <td>2013-01-01</td>\n",
       "      <td>1</td>\n",
       "      <td>BABY CARE</td>\n",
       "      <td>0.0</td>\n",
       "      <td>0</td>\n",
       "    </tr>\n",
       "    <tr>\n",
       "      <th>2</th>\n",
       "      <td>2</td>\n",
       "      <td>2013-01-01</td>\n",
       "      <td>1</td>\n",
       "      <td>BEAUTY</td>\n",
       "      <td>0.0</td>\n",
       "      <td>0</td>\n",
       "    </tr>\n",
       "    <tr>\n",
       "      <th>3</th>\n",
       "      <td>3</td>\n",
       "      <td>2013-01-01</td>\n",
       "      <td>1</td>\n",
       "      <td>BEVERAGES</td>\n",
       "      <td>0.0</td>\n",
       "      <td>0</td>\n",
       "    </tr>\n",
       "    <tr>\n",
       "      <th>4</th>\n",
       "      <td>4</td>\n",
       "      <td>2013-01-01</td>\n",
       "      <td>1</td>\n",
       "      <td>BOOKS</td>\n",
       "      <td>0.0</td>\n",
       "      <td>0</td>\n",
       "    </tr>\n",
       "  </tbody>\n",
       "</table>\n",
       "</div>"
      ],
      "text/plain": [
       "   id        date  store_nbr      family  sales  onpromotion\n",
       "0   0  2013-01-01          1  AUTOMOTIVE    0.0            0\n",
       "1   1  2013-01-01          1   BABY CARE    0.0            0\n",
       "2   2  2013-01-01          1      BEAUTY    0.0            0\n",
       "3   3  2013-01-01          1   BEVERAGES    0.0            0\n",
       "4   4  2013-01-01          1       BOOKS    0.0            0"
      ]
     },
     "execution_count": 178,
     "metadata": {},
     "output_type": "execute_result"
    }
   ],
   "source": [
    "df_train = pd.read_csv(\"E:\\\\AZUBI CAREER ACCELERATOR\\\\Data Analytics\\\\PROJECTS\\\\Project 3\\\\LP3 Regression Project\\\\store-sales-forecasting\\\\train.csv\")\n",
    "df_train.head()"
   ]
  },
  {
   "cell_type": "code",
   "execution_count": 179,
   "metadata": {},
   "outputs": [
    {
     "name": "stdout",
     "output_type": "stream",
     "text": [
      "<class 'pandas.core.frame.DataFrame'>\n",
      "RangeIndex: 83488 entries, 0 to 83487\n",
      "Data columns (total 3 columns):\n",
      " #   Column        Non-Null Count  Dtype \n",
      "---  ------        --------------  ----- \n",
      " 0   date          83488 non-null  object\n",
      " 1   store_nbr     83488 non-null  int64 \n",
      " 2   transactions  83488 non-null  int64 \n",
      "dtypes: int64(2), object(1)\n",
      "memory usage: 1.9+ MB\n"
     ]
    }
   ],
   "source": [
    "df_trx.info()"
   ]
  },
  {
   "cell_type": "code",
   "execution_count": 180,
   "metadata": {},
   "outputs": [
    {
     "name": "stdout",
     "output_type": "stream",
     "text": [
      "<class 'pandas.core.frame.DataFrame'>\n",
      "RangeIndex: 3000888 entries, 0 to 3000887\n",
      "Data columns (total 6 columns):\n",
      " #   Column       Dtype  \n",
      "---  ------       -----  \n",
      " 0   id           int64  \n",
      " 1   date         object \n",
      " 2   store_nbr    int64  \n",
      " 3   family       object \n",
      " 4   sales        float64\n",
      " 5   onpromotion  int64  \n",
      "dtypes: float64(1), int64(3), object(2)\n",
      "memory usage: 137.4+ MB\n"
     ]
    }
   ],
   "source": [
    "df_train.info()"
   ]
  },
  {
   "cell_type": "code",
   "execution_count": 181,
   "metadata": {},
   "outputs": [],
   "source": [
    "# To change the date to correct datatype\n",
    "\n",
    "df_trx['date'] = pd.to_datetime(df_trx['date'])\n",
    "df_train['date'] = pd.to_datetime(df_train['date'])"
   ]
  },
  {
   "cell_type": "markdown",
   "metadata": {},
   "source": [
    "# Data Understanding"
   ]
  },
  {
   "cell_type": "markdown",
   "metadata": {},
   "source": [
    "## To check for missing data"
   ]
  },
  {
   "cell_type": "code",
   "execution_count": 182,
   "metadata": {},
   "outputs": [
    {
     "data": {
      "text/plain": [
       "date           0\n",
       "dcoilwtico    43\n",
       "dtype: int64"
      ]
     },
     "execution_count": 182,
     "metadata": {},
     "output_type": "execute_result"
    }
   ],
   "source": [
    "oil.isna().sum()"
   ]
  },
  {
   "cell_type": "code",
   "execution_count": 183,
   "metadata": {},
   "outputs": [
    {
     "data": {
      "text/plain": [
       "date           0\n",
       "type           0\n",
       "locale         0\n",
       "locale_name    0\n",
       "description    0\n",
       "transferred    0\n",
       "dtype: int64"
      ]
     },
     "execution_count": 183,
     "metadata": {},
     "output_type": "execute_result"
    }
   ],
   "source": [
    "holidays_events.isna().sum()"
   ]
  },
  {
   "cell_type": "code",
   "execution_count": 184,
   "metadata": {},
   "outputs": [
    {
     "data": {
      "text/plain": [
       "store_nbr    0\n",
       "city         0\n",
       "state        0\n",
       "type         0\n",
       "cluster      0\n",
       "dtype: int64"
      ]
     },
     "execution_count": 184,
     "metadata": {},
     "output_type": "execute_result"
    }
   ],
   "source": [
    "stores.isna().sum()"
   ]
  },
  {
   "cell_type": "code",
   "execution_count": 185,
   "metadata": {},
   "outputs": [
    {
     "data": {
      "text/plain": [
       "date            0\n",
       "store_nbr       0\n",
       "transactions    0\n",
       "dtype: int64"
      ]
     },
     "execution_count": 185,
     "metadata": {},
     "output_type": "execute_result"
    }
   ],
   "source": [
    "df_trx.isna().sum()"
   ]
  },
  {
   "cell_type": "code",
   "execution_count": 186,
   "metadata": {},
   "outputs": [
    {
     "data": {
      "text/plain": [
       "id             0\n",
       "date           0\n",
       "store_nbr      0\n",
       "family         0\n",
       "sales          0\n",
       "onpromotion    0\n",
       "dtype: int64"
      ]
     },
     "execution_count": 186,
     "metadata": {},
     "output_type": "execute_result"
    }
   ],
   "source": [
    "df_train.isna().sum()"
   ]
  },
  {
   "cell_type": "markdown",
   "metadata": {},
   "source": [
    "- Only the oil dataset has 43 missing values on the 'dicoilwtico' column \n",
    "##### Fill missing values in the 'dcoilwtico' (daily crude oil prices) column using backfill strategy"
   ]
  },
  {
   "cell_type": "code",
   "execution_count": 187,
   "metadata": {},
   "outputs": [],
   "source": [
    "# Fill missing values in the 'dcoilwtico' column using backfill strategy\n",
    "oil['dcoilwtico'] = oil['dcoilwtico'].fillna(method='backfill')"
   ]
  },
  {
   "cell_type": "markdown",
   "metadata": {},
   "source": [
    "#### Confirm the missing values handled"
   ]
  },
  {
   "cell_type": "code",
   "execution_count": 188,
   "metadata": {},
   "outputs": [
    {
     "data": {
      "text/plain": [
       "date          0\n",
       "dcoilwtico    0\n",
       "dtype: int64"
      ]
     },
     "execution_count": 188,
     "metadata": {},
     "output_type": "execute_result"
    }
   ],
   "source": [
    "oil.isna().sum()"
   ]
  },
  {
   "cell_type": "markdown",
   "metadata": {},
   "source": [
    "### Merging the Datasets"
   ]
  },
  {
   "cell_type": "code",
   "execution_count": 189,
   "metadata": {},
   "outputs": [
    {
     "data": {
      "text/html": [
       "<div>\n",
       "<style scoped>\n",
       "    .dataframe tbody tr th:only-of-type {\n",
       "        vertical-align: middle;\n",
       "    }\n",
       "\n",
       "    .dataframe tbody tr th {\n",
       "        vertical-align: top;\n",
       "    }\n",
       "\n",
       "    .dataframe thead th {\n",
       "        text-align: right;\n",
       "    }\n",
       "</style>\n",
       "<table border=\"1\" class=\"dataframe\">\n",
       "  <thead>\n",
       "    <tr style=\"text-align: right;\">\n",
       "      <th></th>\n",
       "      <th>id</th>\n",
       "      <th>date</th>\n",
       "      <th>store_nbr</th>\n",
       "      <th>family</th>\n",
       "      <th>sales</th>\n",
       "      <th>onpromotion</th>\n",
       "      <th>city</th>\n",
       "      <th>state</th>\n",
       "      <th>type_x</th>\n",
       "      <th>cluster</th>\n",
       "      <th>transactions</th>\n",
       "      <th>type_y</th>\n",
       "      <th>locale</th>\n",
       "      <th>locale_name</th>\n",
       "      <th>description</th>\n",
       "      <th>transferred</th>\n",
       "      <th>dcoilwtico</th>\n",
       "    </tr>\n",
       "  </thead>\n",
       "  <tbody>\n",
       "    <tr>\n",
       "      <th>0</th>\n",
       "      <td>73062</td>\n",
       "      <td>2013-02-11</td>\n",
       "      <td>1</td>\n",
       "      <td>AUTOMOTIVE</td>\n",
       "      <td>0.0</td>\n",
       "      <td>0</td>\n",
       "      <td>Quito</td>\n",
       "      <td>Pichincha</td>\n",
       "      <td>D</td>\n",
       "      <td>13</td>\n",
       "      <td>396</td>\n",
       "      <td>Holiday</td>\n",
       "      <td>National</td>\n",
       "      <td>Ecuador</td>\n",
       "      <td>Carnaval</td>\n",
       "      <td>False</td>\n",
       "      <td>97.010002</td>\n",
       "    </tr>\n",
       "    <tr>\n",
       "      <th>1</th>\n",
       "      <td>73063</td>\n",
       "      <td>2013-02-11</td>\n",
       "      <td>1</td>\n",
       "      <td>BABY CARE</td>\n",
       "      <td>0.0</td>\n",
       "      <td>0</td>\n",
       "      <td>Quito</td>\n",
       "      <td>Pichincha</td>\n",
       "      <td>D</td>\n",
       "      <td>13</td>\n",
       "      <td>396</td>\n",
       "      <td>Holiday</td>\n",
       "      <td>National</td>\n",
       "      <td>Ecuador</td>\n",
       "      <td>Carnaval</td>\n",
       "      <td>False</td>\n",
       "      <td>97.010002</td>\n",
       "    </tr>\n",
       "    <tr>\n",
       "      <th>2</th>\n",
       "      <td>73064</td>\n",
       "      <td>2013-02-11</td>\n",
       "      <td>1</td>\n",
       "      <td>BEAUTY</td>\n",
       "      <td>0.0</td>\n",
       "      <td>0</td>\n",
       "      <td>Quito</td>\n",
       "      <td>Pichincha</td>\n",
       "      <td>D</td>\n",
       "      <td>13</td>\n",
       "      <td>396</td>\n",
       "      <td>Holiday</td>\n",
       "      <td>National</td>\n",
       "      <td>Ecuador</td>\n",
       "      <td>Carnaval</td>\n",
       "      <td>False</td>\n",
       "      <td>97.010002</td>\n",
       "    </tr>\n",
       "    <tr>\n",
       "      <th>3</th>\n",
       "      <td>73065</td>\n",
       "      <td>2013-02-11</td>\n",
       "      <td>1</td>\n",
       "      <td>BEVERAGES</td>\n",
       "      <td>172.0</td>\n",
       "      <td>0</td>\n",
       "      <td>Quito</td>\n",
       "      <td>Pichincha</td>\n",
       "      <td>D</td>\n",
       "      <td>13</td>\n",
       "      <td>396</td>\n",
       "      <td>Holiday</td>\n",
       "      <td>National</td>\n",
       "      <td>Ecuador</td>\n",
       "      <td>Carnaval</td>\n",
       "      <td>False</td>\n",
       "      <td>97.010002</td>\n",
       "    </tr>\n",
       "    <tr>\n",
       "      <th>4</th>\n",
       "      <td>73066</td>\n",
       "      <td>2013-02-11</td>\n",
       "      <td>1</td>\n",
       "      <td>BOOKS</td>\n",
       "      <td>0.0</td>\n",
       "      <td>0</td>\n",
       "      <td>Quito</td>\n",
       "      <td>Pichincha</td>\n",
       "      <td>D</td>\n",
       "      <td>13</td>\n",
       "      <td>396</td>\n",
       "      <td>Holiday</td>\n",
       "      <td>National</td>\n",
       "      <td>Ecuador</td>\n",
       "      <td>Carnaval</td>\n",
       "      <td>False</td>\n",
       "      <td>97.010002</td>\n",
       "    </tr>\n",
       "  </tbody>\n",
       "</table>\n",
       "</div>"
      ],
      "text/plain": [
       "      id       date  store_nbr      family  sales  onpromotion   city  \\\n",
       "0  73062 2013-02-11          1  AUTOMOTIVE    0.0            0  Quito   \n",
       "1  73063 2013-02-11          1   BABY CARE    0.0            0  Quito   \n",
       "2  73064 2013-02-11          1      BEAUTY    0.0            0  Quito   \n",
       "3  73065 2013-02-11          1   BEVERAGES  172.0            0  Quito   \n",
       "4  73066 2013-02-11          1       BOOKS    0.0            0  Quito   \n",
       "\n",
       "       state type_x  cluster  transactions   type_y    locale locale_name  \\\n",
       "0  Pichincha      D       13           396  Holiday  National     Ecuador   \n",
       "1  Pichincha      D       13           396  Holiday  National     Ecuador   \n",
       "2  Pichincha      D       13           396  Holiday  National     Ecuador   \n",
       "3  Pichincha      D       13           396  Holiday  National     Ecuador   \n",
       "4  Pichincha      D       13           396  Holiday  National     Ecuador   \n",
       "\n",
       "  description  transferred  dcoilwtico  \n",
       "0    Carnaval        False   97.010002  \n",
       "1    Carnaval        False   97.010002  \n",
       "2    Carnaval        False   97.010002  \n",
       "3    Carnaval        False   97.010002  \n",
       "4    Carnaval        False   97.010002  "
      ]
     },
     "execution_count": 189,
     "metadata": {},
     "output_type": "execute_result"
    }
   ],
   "source": [
    "# Merging the common columns ('store_nbr' and 'date') in the datasets using the inner merge() function\n",
    "# Merge train_data with stores_df based on 'store_nbr' column\n",
    "merged_df1 = pd.merge(df_train,stores, on='store_nbr', how='inner')\n",
    " \n",
    "# Merge merged_df1 with trans_data based on 'date' and 'store_nbr' columns\n",
    "merged_df2 = merged_df1.merge(df_trx, on=['date', 'store_nbr'], how='inner')\n",
    " \n",
    "# Merge merged_df2 with holidays_events_df based on 'date' column\n",
    "merged_df3 = merged_df2.merge(holidays_events, on='date', how='inner')\n",
    " \n",
    "# Merge merged_df3 with oil_df based on 'date' column\n",
    "data= merged_df3.merge(oil, on='date', how='inner')\n",
    " \n",
    "# View the first five rows of the merged dataset\n",
    "data.head()"
   ]
  },
  {
   "cell_type": "markdown",
   "metadata": {},
   "source": [
    "We have used an inner merge to combine the datasets to ensures that we are working with a unified dataset that contains only the relevant information for the dates common to all datasets, facilitating a cleaner and more consistent analysis for time series forecasting.helps in avoiding having rows with missing values or mismatched timestamps in the final dataset.\n",
    "\n",
    "Also an inner merge ensures that all the data points in the resulting dataset share the same timestamps, providing a unified time index for analysis and modeling."
   ]
  },
  {
   "cell_type": "code",
   "execution_count": 190,
   "metadata": {},
   "outputs": [
    {
     "name": "stdout",
     "output_type": "stream",
     "text": [
      "<class 'pandas.core.frame.DataFrame'>\n",
      "RangeIndex: 322047 entries, 0 to 322046\n",
      "Data columns (total 17 columns):\n",
      " #   Column        Non-Null Count   Dtype         \n",
      "---  ------        --------------   -----         \n",
      " 0   id            322047 non-null  int64         \n",
      " 1   date          322047 non-null  datetime64[ns]\n",
      " 2   store_nbr     322047 non-null  int64         \n",
      " 3   family        322047 non-null  object        \n",
      " 4   sales         322047 non-null  float64       \n",
      " 5   onpromotion   322047 non-null  int64         \n",
      " 6   city          322047 non-null  object        \n",
      " 7   state         322047 non-null  object        \n",
      " 8   type_x        322047 non-null  object        \n",
      " 9   cluster       322047 non-null  int64         \n",
      " 10  transactions  322047 non-null  int64         \n",
      " 11  type_y        322047 non-null  object        \n",
      " 12  locale        322047 non-null  object        \n",
      " 13  locale_name   322047 non-null  object        \n",
      " 14  description   322047 non-null  object        \n",
      " 15  transferred   322047 non-null  bool          \n",
      " 16  dcoilwtico    322047 non-null  float64       \n",
      "dtypes: bool(1), datetime64[ns](1), float64(2), int64(5), object(8)\n",
      "memory usage: 39.6+ MB\n"
     ]
    }
   ],
   "source": [
    "data.info()"
   ]
  },
  {
   "cell_type": "markdown",
   "metadata": {},
   "source": [
    "- It is seen that we have no null values in the merged data.\n",
    "- The merged dataset consists of 322,047 non-null observations.\n",
    "- Two columns have been renamed as a result of the merging, type_x and type_y."
   ]
  },
  {
   "cell_type": "code",
   "execution_count": 191,
   "metadata": {},
   "outputs": [
    {
     "data": {
      "text/html": [
       "<div>\n",
       "<style scoped>\n",
       "    .dataframe tbody tr th:only-of-type {\n",
       "        vertical-align: middle;\n",
       "    }\n",
       "\n",
       "    .dataframe tbody tr th {\n",
       "        vertical-align: top;\n",
       "    }\n",
       "\n",
       "    .dataframe thead th {\n",
       "        text-align: right;\n",
       "    }\n",
       "</style>\n",
       "<table border=\"1\" class=\"dataframe\">\n",
       "  <thead>\n",
       "    <tr style=\"text-align: right;\">\n",
       "      <th></th>\n",
       "      <th>id</th>\n",
       "      <th>date</th>\n",
       "      <th>store_nbr</th>\n",
       "      <th>family</th>\n",
       "      <th>sales</th>\n",
       "      <th>onpromotion</th>\n",
       "      <th>city</th>\n",
       "      <th>state</th>\n",
       "      <th>store_type</th>\n",
       "      <th>cluster</th>\n",
       "      <th>transactions</th>\n",
       "      <th>holiday_type</th>\n",
       "      <th>locale</th>\n",
       "      <th>locale_name</th>\n",
       "      <th>description</th>\n",
       "      <th>transferred</th>\n",
       "      <th>dcoilwtico</th>\n",
       "    </tr>\n",
       "  </thead>\n",
       "  <tbody>\n",
       "    <tr>\n",
       "      <th>0</th>\n",
       "      <td>73062</td>\n",
       "      <td>2013-02-11</td>\n",
       "      <td>1</td>\n",
       "      <td>AUTOMOTIVE</td>\n",
       "      <td>0.0</td>\n",
       "      <td>0</td>\n",
       "      <td>Quito</td>\n",
       "      <td>Pichincha</td>\n",
       "      <td>D</td>\n",
       "      <td>13</td>\n",
       "      <td>396</td>\n",
       "      <td>Holiday</td>\n",
       "      <td>National</td>\n",
       "      <td>Ecuador</td>\n",
       "      <td>Carnaval</td>\n",
       "      <td>False</td>\n",
       "      <td>97.010002</td>\n",
       "    </tr>\n",
       "    <tr>\n",
       "      <th>1</th>\n",
       "      <td>73063</td>\n",
       "      <td>2013-02-11</td>\n",
       "      <td>1</td>\n",
       "      <td>BABY CARE</td>\n",
       "      <td>0.0</td>\n",
       "      <td>0</td>\n",
       "      <td>Quito</td>\n",
       "      <td>Pichincha</td>\n",
       "      <td>D</td>\n",
       "      <td>13</td>\n",
       "      <td>396</td>\n",
       "      <td>Holiday</td>\n",
       "      <td>National</td>\n",
       "      <td>Ecuador</td>\n",
       "      <td>Carnaval</td>\n",
       "      <td>False</td>\n",
       "      <td>97.010002</td>\n",
       "    </tr>\n",
       "    <tr>\n",
       "      <th>2</th>\n",
       "      <td>73064</td>\n",
       "      <td>2013-02-11</td>\n",
       "      <td>1</td>\n",
       "      <td>BEAUTY</td>\n",
       "      <td>0.0</td>\n",
       "      <td>0</td>\n",
       "      <td>Quito</td>\n",
       "      <td>Pichincha</td>\n",
       "      <td>D</td>\n",
       "      <td>13</td>\n",
       "      <td>396</td>\n",
       "      <td>Holiday</td>\n",
       "      <td>National</td>\n",
       "      <td>Ecuador</td>\n",
       "      <td>Carnaval</td>\n",
       "      <td>False</td>\n",
       "      <td>97.010002</td>\n",
       "    </tr>\n",
       "    <tr>\n",
       "      <th>3</th>\n",
       "      <td>73065</td>\n",
       "      <td>2013-02-11</td>\n",
       "      <td>1</td>\n",
       "      <td>BEVERAGES</td>\n",
       "      <td>172.0</td>\n",
       "      <td>0</td>\n",
       "      <td>Quito</td>\n",
       "      <td>Pichincha</td>\n",
       "      <td>D</td>\n",
       "      <td>13</td>\n",
       "      <td>396</td>\n",
       "      <td>Holiday</td>\n",
       "      <td>National</td>\n",
       "      <td>Ecuador</td>\n",
       "      <td>Carnaval</td>\n",
       "      <td>False</td>\n",
       "      <td>97.010002</td>\n",
       "    </tr>\n",
       "    <tr>\n",
       "      <th>4</th>\n",
       "      <td>73066</td>\n",
       "      <td>2013-02-11</td>\n",
       "      <td>1</td>\n",
       "      <td>BOOKS</td>\n",
       "      <td>0.0</td>\n",
       "      <td>0</td>\n",
       "      <td>Quito</td>\n",
       "      <td>Pichincha</td>\n",
       "      <td>D</td>\n",
       "      <td>13</td>\n",
       "      <td>396</td>\n",
       "      <td>Holiday</td>\n",
       "      <td>National</td>\n",
       "      <td>Ecuador</td>\n",
       "      <td>Carnaval</td>\n",
       "      <td>False</td>\n",
       "      <td>97.010002</td>\n",
       "    </tr>\n",
       "  </tbody>\n",
       "</table>\n",
       "</div>"
      ],
      "text/plain": [
       "      id       date  store_nbr      family  sales  onpromotion   city  \\\n",
       "0  73062 2013-02-11          1  AUTOMOTIVE    0.0            0  Quito   \n",
       "1  73063 2013-02-11          1   BABY CARE    0.0            0  Quito   \n",
       "2  73064 2013-02-11          1      BEAUTY    0.0            0  Quito   \n",
       "3  73065 2013-02-11          1   BEVERAGES  172.0            0  Quito   \n",
       "4  73066 2013-02-11          1       BOOKS    0.0            0  Quito   \n",
       "\n",
       "       state store_type  cluster  transactions holiday_type    locale  \\\n",
       "0  Pichincha          D       13           396      Holiday  National   \n",
       "1  Pichincha          D       13           396      Holiday  National   \n",
       "2  Pichincha          D       13           396      Holiday  National   \n",
       "3  Pichincha          D       13           396      Holiday  National   \n",
       "4  Pichincha          D       13           396      Holiday  National   \n",
       "\n",
       "  locale_name description  transferred  dcoilwtico  \n",
       "0     Ecuador    Carnaval        False   97.010002  \n",
       "1     Ecuador    Carnaval        False   97.010002  \n",
       "2     Ecuador    Carnaval        False   97.010002  \n",
       "3     Ecuador    Carnaval        False   97.010002  \n",
       "4     Ecuador    Carnaval        False   97.010002  "
      ]
     },
     "execution_count": 191,
     "metadata": {},
     "output_type": "execute_result"
    }
   ],
   "source": [
    "# Renaming the columns with the approapriate names\n",
    "data = data.rename(columns={\"type_x\": \"store_type\", \"type_y\": \"holiday_type\"})\n",
    "data.head()"
   ]
  },
  {
   "cell_type": "code",
   "execution_count": 192,
   "metadata": {},
   "outputs": [
    {
     "data": {
      "text/html": [
       "<div>\n",
       "<style scoped>\n",
       "    .dataframe tbody tr th:only-of-type {\n",
       "        vertical-align: middle;\n",
       "    }\n",
       "\n",
       "    .dataframe tbody tr th {\n",
       "        vertical-align: top;\n",
       "    }\n",
       "\n",
       "    .dataframe thead th {\n",
       "        text-align: right;\n",
       "    }\n",
       "</style>\n",
       "<table border=\"1\" class=\"dataframe\">\n",
       "  <thead>\n",
       "    <tr style=\"text-align: right;\">\n",
       "      <th></th>\n",
       "      <th>count</th>\n",
       "      <th>mean</th>\n",
       "      <th>min</th>\n",
       "      <th>25%</th>\n",
       "      <th>50%</th>\n",
       "      <th>75%</th>\n",
       "      <th>max</th>\n",
       "      <th>std</th>\n",
       "    </tr>\n",
       "  </thead>\n",
       "  <tbody>\n",
       "    <tr>\n",
       "      <th>id</th>\n",
       "      <td>322047.0</td>\n",
       "      <td>1682979.459576</td>\n",
       "      <td>561.0</td>\n",
       "      <td>1010616.5</td>\n",
       "      <td>1842406.0</td>\n",
       "      <td>2209555.5</td>\n",
       "      <td>3000887.0</td>\n",
       "      <td>786249.257767</td>\n",
       "    </tr>\n",
       "    <tr>\n",
       "      <th>date</th>\n",
       "      <td>322047</td>\n",
       "      <td>2015-08-04 23:49:57.971103488</td>\n",
       "      <td>2013-01-01 00:00:00</td>\n",
       "      <td>2014-07-23 00:00:00</td>\n",
       "      <td>2015-11-02 00:00:00</td>\n",
       "      <td>2016-05-27 00:00:00</td>\n",
       "      <td>2017-08-15 00:00:00</td>\n",
       "      <td>NaN</td>\n",
       "    </tr>\n",
       "    <tr>\n",
       "      <th>store_nbr</th>\n",
       "      <td>322047.0</td>\n",
       "      <td>26.994672</td>\n",
       "      <td>1.0</td>\n",
       "      <td>13.0</td>\n",
       "      <td>27.0</td>\n",
       "      <td>40.0</td>\n",
       "      <td>54.0</td>\n",
       "      <td>15.595174</td>\n",
       "    </tr>\n",
       "    <tr>\n",
       "      <th>sales</th>\n",
       "      <td>322047.0</td>\n",
       "      <td>406.383452</td>\n",
       "      <td>0.0</td>\n",
       "      <td>1.0</td>\n",
       "      <td>19.0</td>\n",
       "      <td>241.260505</td>\n",
       "      <td>124717.0</td>\n",
       "      <td>1246.88124</td>\n",
       "    </tr>\n",
       "    <tr>\n",
       "      <th>onpromotion</th>\n",
       "      <td>322047.0</td>\n",
       "      <td>3.727136</td>\n",
       "      <td>0.0</td>\n",
       "      <td>0.0</td>\n",
       "      <td>0.0</td>\n",
       "      <td>1.0</td>\n",
       "      <td>716.0</td>\n",
       "      <td>15.512095</td>\n",
       "    </tr>\n",
       "    <tr>\n",
       "      <th>cluster</th>\n",
       "      <td>322047.0</td>\n",
       "      <td>8.531202</td>\n",
       "      <td>1.0</td>\n",
       "      <td>4.0</td>\n",
       "      <td>9.0</td>\n",
       "      <td>13.0</td>\n",
       "      <td>17.0</td>\n",
       "      <td>4.713809</td>\n",
       "    </tr>\n",
       "    <tr>\n",
       "      <th>transactions</th>\n",
       "      <td>322047.0</td>\n",
       "      <td>1734.11784</td>\n",
       "      <td>54.0</td>\n",
       "      <td>1030.0</td>\n",
       "      <td>1409.0</td>\n",
       "      <td>2148.0</td>\n",
       "      <td>8359.0</td>\n",
       "      <td>1050.335018</td>\n",
       "    </tr>\n",
       "    <tr>\n",
       "      <th>dcoilwtico</th>\n",
       "      <td>322047.0</td>\n",
       "      <td>63.636381</td>\n",
       "      <td>27.959999</td>\n",
       "      <td>44.880001</td>\n",
       "      <td>51.98</td>\n",
       "      <td>94.089996</td>\n",
       "      <td>107.949997</td>\n",
       "      <td>24.855753</td>\n",
       "    </tr>\n",
       "  </tbody>\n",
       "</table>\n",
       "</div>"
      ],
      "text/plain": [
       "                 count                           mean                  min  \\\n",
       "id            322047.0                 1682979.459576                561.0   \n",
       "date            322047  2015-08-04 23:49:57.971103488  2013-01-01 00:00:00   \n",
       "store_nbr     322047.0                      26.994672                  1.0   \n",
       "sales         322047.0                     406.383452                  0.0   \n",
       "onpromotion   322047.0                       3.727136                  0.0   \n",
       "cluster       322047.0                       8.531202                  1.0   \n",
       "transactions  322047.0                     1734.11784                 54.0   \n",
       "dcoilwtico    322047.0                      63.636381            27.959999   \n",
       "\n",
       "                              25%                  50%                  75%  \\\n",
       "id                      1010616.5            1842406.0            2209555.5   \n",
       "date          2014-07-23 00:00:00  2015-11-02 00:00:00  2016-05-27 00:00:00   \n",
       "store_nbr                    13.0                 27.0                 40.0   \n",
       "sales                         1.0                 19.0           241.260505   \n",
       "onpromotion                   0.0                  0.0                  1.0   \n",
       "cluster                       4.0                  9.0                 13.0   \n",
       "transactions               1030.0               1409.0               2148.0   \n",
       "dcoilwtico              44.880001                51.98            94.089996   \n",
       "\n",
       "                              max            std  \n",
       "id                      3000887.0  786249.257767  \n",
       "date          2017-08-15 00:00:00            NaN  \n",
       "store_nbr                    54.0      15.595174  \n",
       "sales                    124717.0     1246.88124  \n",
       "onpromotion                 716.0      15.512095  \n",
       "cluster                      17.0       4.713809  \n",
       "transactions               8359.0    1050.335018  \n",
       "dcoilwtico             107.949997      24.855753  "
      ]
     },
     "execution_count": 192,
     "metadata": {},
     "output_type": "execute_result"
    }
   ],
   "source": [
    "# Generate summary statistics \n",
    "data.describe().T"
   ]
  },
  {
   "cell_type": "code",
   "execution_count": 193,
   "metadata": {},
   "outputs": [
    {
     "data": {
      "text/plain": [
       "0"
      ]
     },
     "execution_count": 193,
     "metadata": {},
     "output_type": "execute_result"
    }
   ],
   "source": [
    "duplicates=data.duplicated().sum()\n",
    "duplicates"
   ]
  },
  {
   "cell_type": "code",
   "execution_count": 194,
   "metadata": {},
   "outputs": [
    {
     "data": {
      "text/plain": [
       "id              0\n",
       "date            0\n",
       "store_nbr       0\n",
       "family          0\n",
       "sales           0\n",
       "onpromotion     0\n",
       "city            0\n",
       "state           0\n",
       "store_type      0\n",
       "cluster         0\n",
       "transactions    0\n",
       "holiday_type    0\n",
       "locale          0\n",
       "locale_name     0\n",
       "description     0\n",
       "transferred     0\n",
       "dcoilwtico      0\n",
       "dtype: int64"
      ]
     },
     "execution_count": 194,
     "metadata": {},
     "output_type": "execute_result"
    }
   ],
   "source": [
    "# To check for missing values in merged dataset\n",
    "data.isna().sum()"
   ]
  },
  {
   "cell_type": "markdown",
   "metadata": {},
   "source": [
    "### Save data to CSV for later use in Visualization"
   ]
  },
  {
   "cell_type": "code",
   "execution_count": 197,
   "metadata": {},
   "outputs": [],
   "source": [
    "data.to_csv('V_Data.csv', index=False)\n"
   ]
  },
  {
   "cell_type": "markdown",
   "metadata": {},
   "source": [
    "# EDA"
   ]
  },
  {
   "cell_type": "markdown",
   "metadata": {},
   "source": [
    "### Univariate analysis"
   ]
  },
  {
   "cell_type": "code",
   "execution_count": 210,
   "metadata": {},
   "outputs": [
    {
     "data": {
      "text/plain": [
       "<Figure size 400x400 with 0 Axes>"
      ]
     },
     "metadata": {},
     "output_type": "display_data"
    },
    {
     "data": {
      "image/png": "[encoded data removed]",
      "text/plain": [
       "<Figure size 640x480 with 1 Axes>"
      ]
     },
     "metadata": {},
     "output_type": "display_data"
    },
    {
     "data": {
      "image/png": "[encoded data removed]",
      "text/plain": [
       "<Figure size 700x500 with 1 Axes>"
      ]
     },
     "metadata": {},
     "output_type": "display_data"
    }
   ],
   "source": [
    "# To check for any outliers in the data\n",
    "\n",
    "plt.figure(figsize=(4,4))\n",
    "data.hist(column=['sales'],color='skyblue')\n",
    "plt.xlabel('Sales')\n",
    "plt.ylabel('Frequency')\n",
    "plt.show();\n",
    "\n",
    "\n",
    "# Box plot\n",
    "plt.figure(figsize=(7,5))\n",
    "data.boxplot(column='sales',color='skyblue')\n",
    "plt.ylabel('Frequency')\n",
    "plt.show()"
   ]
  },
  {
   "cell_type": "markdown",
   "metadata": {},
   "source": [
    "* From the graphs above it shows that the sales data does not have any skiewness and that its has outliers"
   ]
  },
  {
   "cell_type": "code",
   "execution_count": 217,
   "metadata": {},
   "outputs": [
    {
     "data": {
      "text/plain": [
       "<Figure size 400x400 with 0 Axes>"
      ]
     },
     "metadata": {},
     "output_type": "display_data"
    },
    {
     "data": {
      "image/png": "[encoded data removed]",
      "text/plain": [
       "<Figure size 640x480 with 1 Axes>"
      ]
     },
     "metadata": {},
     "output_type": "display_data"
    },
    {
     "data": {
      "image/png": "[encoded data removed]",
      "text/plain": [
       "<Figure size 700x500 with 1 Axes>"
      ]
     },
     "metadata": {},
     "output_type": "display_data"
    }
   ],
   "source": [
    "# Transaction data\n",
    "\n",
    "plt.figure(figsize=(4,4))\n",
    "data.hist(column=['transactions'],color='skyblue')\n",
    "plt.xlabel('Transations')\n",
    "plt.ylabel('Frequency')\n",
    "plt.title('Distribution of Transactions')\n",
    "plt.show();\n",
    "\n",
    "\n",
    "# Box plot\n",
    "plt.figure(figsize=(7,5))\n",
    "data.boxplot(column='transactions')\n",
    "plt.ylabel('Frequency')\n",
    "plt.title('Transactions Boxplot')\n",
    "plt.show()"
   ]
  },
  {
   "cell_type": "markdown",
   "metadata": {},
   "source": [
    "The histogram provides insights into the distribution of transactions in the dataset. The shape of the histogram indicates that the majority of transactions fall into a specific range, which is evident from the high frequency observed on the left side of the histogram. As the transactions increase, the frequency gradually decreases, forming a right-skewed distribution. This suggests that there are relatively fewer instances of high transaction volumes. Overall, the histogram highlights the presence of a cluster of transactions with a lower frequency, indicating a pattern in the data."
   ]
  },
  {
   "cell_type": "code",
   "execution_count": 216,
   "metadata": {},
   "outputs": [
    {
     "data": {
      "text/plain": [
       "<Figure size 400x400 with 0 Axes>"
      ]
     },
     "metadata": {},
     "output_type": "display_data"
    },
    {
     "data": {
      "image/png": "[encoded data removed]",
      "text/plain": [
       "<Figure size 640x480 with 1 Axes>"
      ]
     },
     "metadata": {},
     "output_type": "display_data"
    },
    {
     "data": {
      "image/png": "[encoded data removed]",
      "text/plain": [
       "<Figure size 700x500 with 1 Axes>"
      ]
     },
     "metadata": {},
     "output_type": "display_data"
    }
   ],
   "source": [
    "plt.figure(figsize=(4,4))\n",
    "data.hist(column=['cluster'],color='skyblue')\n",
    "plt.show();\n",
    "\n",
    "\n",
    "# Box plot\n",
    "plt.figure(figsize=(7,5))\n",
    "data.boxplot(column='cluster')\n",
    "plt.show()"
   ]
  },
  {
   "cell_type": "code",
   "execution_count": 215,
   "metadata": {},
   "outputs": [
    {
     "data": {
      "text/plain": [
       "<Figure size 400x400 with 0 Axes>"
      ]
     },
     "metadata": {},
     "output_type": "display_data"
    },
    {
     "data": {
      "image/png": "[encoded data removed]",
      "text/plain": [
       "<Figure size 640x480 with 1 Axes>"
      ]
     },
     "metadata": {},
     "output_type": "display_data"
    },
    {
     "data": {
      "image/png": "[encoded data removed]",
      "text/plain": [
       "<Figure size 700x500 with 1 Axes>"
      ]
     },
     "metadata": {},
     "output_type": "display_data"
    }
   ],
   "source": [
    "plt.figure(figsize=(4,4))\n",
    "data.hist(column=['onpromotion'],color='skyblue')\n",
    "plt.show();\n",
    "\n",
    "\n",
    "# Box plot\n",
    "plt.figure(figsize=(7,5))\n",
    "data.boxplot(column='onpromotion')\n",
    "plt.show()"
   ]
  },
  {
   "cell_type": "markdown",
   "metadata": {},
   "source": [
    "* The onpromotion data indicates no skeweness but the boxplot shows that it has outliers"
   ]
  },
  {
   "cell_type": "code",
   "execution_count": 214,
   "metadata": {},
   "outputs": [
    {
     "data": {
      "text/plain": [
       "<Figure size 400x400 with 0 Axes>"
      ]
     },
     "metadata": {},
     "output_type": "display_data"
    },
    {
     "data": {
      "image/png": "[encoded data removed]",
      "text/plain": [
       "<Figure size 640x480 with 1 Axes>"
      ]
     },
     "metadata": {},
     "output_type": "display_data"
    },
    {
     "data": {
      "image/png": "[encoded data removed]",
      "text/plain": [
       "<Figure size 700x500 with 1 Axes>"
      ]
     },
     "metadata": {},
     "output_type": "display_data"
    }
   ],
   "source": [
    "# Distribution of oil prices\n",
    "\n",
    "plt.figure(figsize=(4,4))\n",
    "data.hist(column=['dcoilwtico'],color='skyblue')\n",
    "plt.xlabel('Oil Price')\n",
    "plt.ylabel('Frequency')\n",
    "plt.title('Distribution of Oil Price')\n",
    "plt.show();\n",
    "\n",
    "\n",
    "# Box plot\n",
    "plt.figure(figsize=(7,5))\n",
    "data.boxplot(column='dcoilwtico')\n",
    "plt.ylabel('oil price')\n",
    "plt.title('Distribution of Oil Price')\n",
    "plt.show()"
   ]
  },
  {
   "cell_type": "markdown",
   "metadata": {},
   "source": [
    "The histogram and boxplot of the 'dcoilwtico' variable reveal insights into its distribution. The histogram displays the frequency distribution of oil prices, indicating the number of occurrences for each price range.\n",
    "The prices are not evenly distributed across a range ,there are clusters/peaks, indicating specific price levels that occur more frequently."
   ]
  },
  {
   "cell_type": "markdown",
   "metadata": {},
   "source": [
    "### Bivariate"
   ]
  },
  {
   "cell_type": "markdown",
   "metadata": {},
   "source": [
    "#### Trend of Sales over time"
   ]
  },
  {
   "cell_type": "code",
   "execution_count": 218,
   "metadata": {},
   "outputs": [
    {
     "data": {
      "application/vnd.plotly.v1+json": {
       "config": {
        "plotlyServerURL": "https://plot.ly"
       },
       "data": [
        {
         "hovertemplate": "date=%{x}<br>sales=%{y}<extra></extra>",
         "legendgroup": "",
         "line": {
          "color": "#636efa",
          "dash": "solid"
         },
         "marker": {
          "symbol": "circle"
         },
         "mode": "lines",
         "name": "",
         "orientation": "v",
         "showlegend": false,
         "type": "scatter",
         "x": [
          "2013-01-01T00:00:00",
          "2013-02-11T00:00:00",
          "2013-02-12T00:00:00",
          "2013-04-01T00:00:00",
          "2013-04-12T00:00:00",
          "2013-04-29T00:00:00",
          "2013-05-01T00:00:00",
          "2013-05-24T00:00:00",
          "2013-06-25T00:00:00",
          "2013-07-03T00:00:00",
          "2013-07-23T00:00:00",
          "2013-07-24T00:00:00",
          "2013-07-25T00:00:00",
          "2013-08-05T00:00:00",
          "2013-08-15T00:00:00",
          "2013-10-07T00:00:00",
          "2013-10-09T00:00:00",
          "2013-10-11T00:00:00",
          "2013-11-06T00:00:00",
          "2013-11-07T00:00:00",
          "2013-11-11T00:00:00",
          "2013-11-12T00:00:00",
          "2013-12-05T00:00:00",
          "2013-12-06T00:00:00",
          "2013-12-23T00:00:00",
          "2013-12-24T00:00:00",
          "2013-12-26T00:00:00",
          "2013-12-31T00:00:00",
          "2014-01-01T00:00:00",
          "2014-03-03T00:00:00",
          "2014-03-04T00:00:00",
          "2014-04-01T00:00:00",
          "2014-04-14T00:00:00",
          "2014-04-18T00:00:00",
          "2014-04-21T00:00:00",
          "2014-05-01T00:00:00",
          "2014-05-12T00:00:00",
          "2014-06-12T00:00:00",
          "2014-06-20T00:00:00",
          "2014-06-23T00:00:00",
          "2014-06-25T00:00:00",
          "2014-06-30T00:00:00",
          "2014-07-01T00:00:00",
          "2014-07-03T00:00:00",
          "2014-07-04T00:00:00",
          "2014-07-08T00:00:00",
          "2014-07-09T00:00:00",
          "2014-07-23T00:00:00",
          "2014-07-24T00:00:00",
          "2014-07-25T00:00:00",
          "2014-08-05T00:00:00",
          "2014-08-15T00:00:00",
          "2014-10-07T00:00:00",
          "2014-10-09T00:00:00",
          "2014-10-10T00:00:00",
          "2014-11-03T00:00:00",
          "2014-11-06T00:00:00",
          "2014-11-07T00:00:00",
          "2014-11-10T00:00:00",
          "2014-11-11T00:00:00",
          "2014-11-12T00:00:00",
          "2014-11-28T00:00:00",
          "2014-12-01T00:00:00",
          "2014-12-05T00:00:00",
          "2014-12-08T00:00:00",
          "2014-12-22T00:00:00",
          "2014-12-23T00:00:00",
          "2014-12-24T00:00:00",
          "2014-12-26T00:00:00",
          "2014-12-31T00:00:00",
          "2015-01-01T00:00:00",
          "2015-01-02T00:00:00",
          "2015-02-16T00:00:00",
          "2015-02-17T00:00:00",
          "2015-03-02T00:00:00",
          "2015-04-01T00:00:00",
          "2015-04-03T00:00:00",
          "2015-04-14T00:00:00",
          "2015-04-21T00:00:00",
          "2015-05-01T00:00:00",
          "2015-05-12T00:00:00",
          "2015-06-23T00:00:00",
          "2015-06-25T00:00:00",
          "2015-07-03T00:00:00",
          "2015-07-23T00:00:00",
          "2015-07-24T00:00:00",
          "2015-08-05T00:00:00",
          "2015-08-10T00:00:00",
          "2015-08-24T00:00:00",
          "2015-09-28T00:00:00",
          "2015-10-07T00:00:00",
          "2015-10-09T00:00:00",
          "2015-11-02T00:00:00",
          "2015-11-03T00:00:00",
          "2015-11-06T00:00:00",
          "2015-11-10T00:00:00",
          "2015-11-11T00:00:00",
          "2015-11-12T00:00:00",
          "2015-11-27T00:00:00",
          "2015-11-30T00:00:00",
          "2015-12-08T00:00:00",
          "2015-12-21T00:00:00",
          "2015-12-22T00:00:00",
          "2015-12-23T00:00:00",
          "2015-12-24T00:00:00",
          "2015-12-31T00:00:00",
          "2016-02-08T00:00:00",
          "2016-02-09T00:00:00",
          "2016-03-02T00:00:00",
          "2016-03-25T00:00:00",
          "2016-04-01T00:00:00",
          "2016-04-12T00:00:00",
          "2016-04-14T00:00:00",
          "2016-04-18T00:00:00",
          "2016-04-19T00:00:00",
          "2016-04-20T00:00:00",
          "2016-04-21T00:00:00",
          "2016-04-22T00:00:00",
          "2016-04-25T00:00:00",
          "2016-04-26T00:00:00",
          "2016-04-27T00:00:00",
          "2016-04-28T00:00:00",
          "2016-04-29T00:00:00",
          "2016-05-02T00:00:00",
          "2016-05-03T00:00:00",
          "2016-05-04T00:00:00",
          "2016-05-05T00:00:00",
          "2016-05-06T00:00:00",
          "2016-05-09T00:00:00",
          "2016-05-10T00:00:00",
          "2016-05-11T00:00:00",
          "2016-05-12T00:00:00",
          "2016-05-13T00:00:00",
          "2016-05-16T00:00:00",
          "2016-05-24T00:00:00",
          "2016-05-27T00:00:00",
          "2016-06-23T00:00:00",
          "2016-07-25T00:00:00",
          "2016-08-05T00:00:00",
          "2016-08-10T00:00:00",
          "2016-08-12T00:00:00",
          "2016-08-15T00:00:00",
          "2016-08-24T00:00:00",
          "2016-09-28T00:00:00",
          "2016-10-07T00:00:00",
          "2016-11-02T00:00:00",
          "2016-11-03T00:00:00",
          "2016-11-04T00:00:00",
          "2016-11-07T00:00:00",
          "2016-11-10T00:00:00",
          "2016-11-11T00:00:00",
          "2016-11-25T00:00:00",
          "2016-11-28T00:00:00",
          "2016-12-05T00:00:00",
          "2016-12-06T00:00:00",
          "2016-12-08T00:00:00",
          "2016-12-21T00:00:00",
          "2016-12-22T00:00:00",
          "2016-12-23T00:00:00",
          "2016-12-26T00:00:00",
          "2017-01-02T00:00:00",
          "2017-02-27T00:00:00",
          "2017-02-28T00:00:00",
          "2017-03-02T00:00:00",
          "2017-04-12T00:00:00",
          "2017-04-13T00:00:00",
          "2017-04-14T00:00:00",
          "2017-04-21T00:00:00",
          "2017-05-01T00:00:00",
          "2017-05-12T00:00:00",
          "2017-05-24T00:00:00",
          "2017-05-26T00:00:00",
          "2017-06-23T00:00:00",
          "2017-07-03T00:00:00",
          "2017-07-24T00:00:00",
          "2017-07-25T00:00:00",
          "2017-08-10T00:00:00",
          "2017-08-11T00:00:00",
          "2017-08-15T00:00:00"
         ],
         "xaxis": "x",
         "y": [
          2511.618999,
          278627.588926,
          308800.7909121,
          428816.447912,
          314394.967035,
          328795.874018,
          507974.636889,
          398389.241982,
          915358.590192,
          749103.835898,
          316257.463107,
          309243.7899995,
          298074.2249247,
          407033.810946,
          311043.17291,
          373387.109043,
          322529.418957,
          402913.849028,
          386426.9788195,
          346293.3400477,
          374087.890067,
          373277.748034,
          386406.804985,
          432661.755068,
          792865.284427,
          620663.290732,
          470731.1624137,
          507264.6630475,
          8602.065404,
          613973.031386,
          748930.902096,
          485079.887001,
          381386.309033,
          394392.184115,
          398677.396998,
          530380.848064,
          398251.889006,
          329408.06736,
          369206.789547,
          414929.6359765,
          1421369.592068,
          429324.0552005,
          720480.616788,
          1167689.4415844,
          595424.31324,
          557291.4975265,
          574451.409963,
          574168.635995,
          484618.8170115,
          579767.285128,
          417197.476176,
          402631.8400593,
          586410.2709706,
          510519.923104,
          702470.317955,
          973192.041735,
          566118.381055,
          585330.25773,
          593376.793073,
          552505.750307,
          588093.484021,
          559619.825094,
          817413.561974,
          635445.153317,
          790283.289992,
          2016286.6920386,
          1064977.9730725,
          965982.871715,
          1744196.91359,
          844380.469674,
          12773.61698,
          657763.391981,
          420740.903983,
          483088.13409300003,
          546037.787999,
          557223.161038,
          510296.785948,
          403623.396979,
          426018.313035,
          674509.400095,
          452162.874045,
          640322.326029,
          1556102.8676919,
          1545546.78784,
          541511.421067,
          635244.2449785,
          724346.594,
          785477.934216,
          681575.9899773,
          671261.0640092,
          720562.330573,
          873934.7190479999,
          762549.794932,
          1033439.132986,
          671145.788057,
          623529.1790699,
          689746.212316,
          506937.6640027,
          645087.0350447,
          762036.1239965,
          712569.16983,
          1072887.476889,
          2283723.81852,
          1196146.056374,
          1083680.315238,
          964641.5415009999,
          636542.677274,
          746939.64016,
          878452.364907,
          633524.200062,
          872467.3200749999,
          651657.0342615,
          546785.2089455,
          1345920.6048929,
          1152089.208085,
          1062426.2900389,
          2002159.558336,
          857059.24399,
          680000.753839,
          704799.4182328,
          670288.098041,
          543339.849013,
          708711.428894,
          973985.670432,
          792205.5501393,
          798654.4540987,
          648701.6029645,
          761422.5161262,
          771767.6541339,
          693010.486981,
          727543.4630335,
          1206788.4141994,
          666833.8999414,
          748112.686851,
          606377.2052165,
          852689.219312,
          559653.337429,
          697383.602092,
          704092.7391311,
          658457.436112,
          745662.5051491,
          720032.299881,
          674613.0479498,
          631761.1750463,
          797612.239327,
          969033.618953,
          793811.6841115,
          858468.216477,
          849451.0429045,
          588241.7590247,
          713396.4541223,
          737819.484836,
          752583.7680527,
          896824.938971,
          932546.385931,
          674077.382905,
          1181307.3270735,
          2271698.782168,
          1282145.5171351,
          1032770.748898,
          1402306.370834,
          744956.948138,
          949366.8290505,
          836225.179072,
          791762.312883,
          737029.565183,
          1481778.973658,
          795795.893872,
          1306699.366897,
          764812.415784,
          746303.6271255,
          984511.1521135,
          761049.7450639,
          1850286.817632,
          816564.327096,
          713581.632609,
          651386.9119697,
          826373.722022,
          762661.935939
         ],
         "yaxis": "y"
        }
       ],
       "layout": {
        "legend": {
         "tracegroupgap": 0
        },
        "margin": {
         "t": 60
        },
        "template": {
         "data": {
          "bar": [
           {
            "error_x": {
             "color": "#2a3f5f"
            },
            "error_y": {
             "color": "#2a3f5f"
            },
            "marker": {
             "line": {
              "color": "#E5ECF6",
              "width": 0.5
             },
             "pattern": {
              "fillmode": "overlay",
              "size": 10,
              "solidity": 0.2
             }
            },
            "type": "bar"
           }
          ],
          "barpolar": [
           {
            "marker": {
             "line": {
              "color": "#E5ECF6",
              "width": 0.5
             },
             "pattern": {
              "fillmode": "overlay",
              "size": 10,
              "solidity": 0.2
             }
            },
            "type": "barpolar"
           }
          ],
          "carpet": [
           {
            "aaxis": {
             "endlinecolor": "#2a3f5f",
             "gridcolor": "white",
             "linecolor": "white",
             "minorgridcolor": "white",
             "startlinecolor": "#2a3f5f"
            },
            "baxis": {
             "endlinecolor": "#2a3f5f",
             "gridcolor": "white",
             "linecolor": "white",
             "minorgridcolor": "white",
             "startlinecolor": "#2a3f5f"
            },
            "type": "carpet"
           }
          ],
          "choropleth": [
           {
            "colorbar": {
             "outlinewidth": 0,
             "ticks": ""
            },
            "type": "choropleth"
           }
          ],
          "contour": [
           {
            "colorbar": {
             "outlinewidth": 0,
             "ticks": ""
            },
            "colorscale": [
             [
              0,
              "#0d0887"
             ],
             [
              0.1111111111111111,
              "#46039f"
             ],
             [
              0.2222222222222222,
              "#7201a8"
             ],
             [
              0.3333333333333333,
              "#9c179e"
             ],
             [
              0.4444444444444444,
              "#bd3786"
             ],
             [
              0.5555555555555556,
              "#d8576b"
             ],
             [
              0.6666666666666666,
              "#ed7953"
             ],
             [
              0.7777777777777778,
              "#fb9f3a"
             ],
             [
              0.8888888888888888,
              "#fdca26"
             ],
             [
              1,
              "#f0f921"
             ]
            ],
            "type": "contour"
           }
          ],
          "contourcarpet": [
           {
            "colorbar": {
             "outlinewidth": 0,
             "ticks": ""
            },
            "type": "contourcarpet"
           }
          ],
          "heatmap": [
           {
            "colorbar": {
             "outlinewidth": 0,
             "ticks": ""
            },
            "colorscale": [
             [
              0,
              "#0d0887"
             ],
             [
              0.1111111111111111,
              "#46039f"
             ],
             [
              0.2222222222222222,
              "#7201a8"
             ],
             [
              0.3333333333333333,
              "#9c179e"
             ],
             [
              0.4444444444444444,
              "#bd3786"
             ],
             [
              0.5555555555555556,
              "#d8576b"
             ],
             [
              0.6666666666666666,
              "#ed7953"
             ],
             [
              0.7777777777777778,
              "#fb9f3a"
             ],
             [
              0.8888888888888888,
              "#fdca26"
             ],
             [
              1,
              "#f0f921"
             ]
            ],
            "type": "heatmap"
           }
          ],
          "heatmapgl": [
           {
            "colorbar": {
             "outlinewidth": 0,
             "ticks": ""
            },
            "colorscale": [
             [
              0,
              "#0d0887"
             ],
             [
              0.1111111111111111,
              "#46039f"
             ],
             [
              0.2222222222222222,
              "#7201a8"
             ],
             [
              0.3333333333333333,
              "#9c179e"
             ],
             [
              0.4444444444444444,
              "#bd3786"
             ],
             [
              0.5555555555555556,
              "#d8576b"
             ],
             [
              0.6666666666666666,
              "#ed7953"
             ],
             [
              0.7777777777777778,
              "#fb9f3a"
             ],
             [
              0.8888888888888888,
              "#fdca26"
             ],
             [
              1,
              "#f0f921"
             ]
            ],
            "type": "heatmapgl"
           }
          ],
          "histogram": [
           {
            "marker": {
             "pattern": {
              "fillmode": "overlay",
              "size": 10,
              "solidity": 0.2
             }
            },
            "type": "histogram"
           }
          ],
          "histogram2d": [
           {
            "colorbar": {
             "outlinewidth": 0,
             "ticks": ""
            },
            "colorscale": [
             [
              0,
              "#0d0887"
             ],
             [
              0.1111111111111111,
              "#46039f"
             ],
             [
              0.2222222222222222,
              "#7201a8"
             ],
             [
              0.3333333333333333,
              "#9c179e"
             ],
             [
              0.4444444444444444,
              "#bd3786"
             ],
             [
              0.5555555555555556,
              "#d8576b"
             ],
             [
              0.6666666666666666,
              "#ed7953"
             ],
             [
              0.7777777777777778,
              "#fb9f3a"
             ],
             [
              0.8888888888888888,
              "#fdca26"
             ],
             [
              1,
              "#f0f921"
             ]
            ],
            "type": "histogram2d"
           }
          ],
          "histogram2dcontour": [
           {
            "colorbar": {
             "outlinewidth": 0,
             "ticks": ""
            },
            "colorscale": [
             [
              0,
              "#0d0887"
             ],
             [
              0.1111111111111111,
              "#46039f"
             ],
             [
              0.2222222222222222,
              "#7201a8"
             ],
             [
              0.3333333333333333,
              "#9c179e"
             ],
             [
              0.4444444444444444,
              "#bd3786"
             ],
             [
              0.5555555555555556,
              "#d8576b"
             ],
             [
              0.6666666666666666,
              "#ed7953"
             ],
             [
              0.7777777777777778,
              "#fb9f3a"
             ],
             [
              0.8888888888888888,
              "#fdca26"
             ],
             [
              1,
              "#f0f921"
             ]
            ],
            "type": "histogram2dcontour"
           }
          ],
          "mesh3d": [
           {
            "colorbar": {
             "outlinewidth": 0,
             "ticks": ""
            },
            "type": "mesh3d"
           }
          ],
          "parcoords": [
           {
            "line": {
             "colorbar": {
              "outlinewidth": 0,
              "ticks": ""
             }
            },
            "type": "parcoords"
           }
          ],
          "pie": [
           {
            "automargin": true,
            "type": "pie"
           }
          ],
          "scatter": [
           {
            "fillpattern": {
             "fillmode": "overlay",
             "size": 10,
             "solidity": 0.2
            },
            "type": "scatter"
           }
          ],
          "scatter3d": [
           {
            "line": {
             "colorbar": {
              "outlinewidth": 0,
              "ticks": ""
             }
            },
            "marker": {
             "colorbar": {
              "outlinewidth": 0,
              "ticks": ""
             }
            },
            "type": "scatter3d"
           }
          ],
          "scattercarpet": [
           {
            "marker": {
             "colorbar": {
              "outlinewidth": 0,
              "ticks": ""
             }
            },
            "type": "scattercarpet"
           }
          ],
          "scattergeo": [
           {
            "marker": {
             "colorbar": {
              "outlinewidth": 0,
              "ticks": ""
             }
            },
            "type": "scattergeo"
           }
          ],
          "scattergl": [
           {
            "marker": {
             "colorbar": {
              "outlinewidth": 0,
              "ticks": ""
             }
            },
            "type": "scattergl"
           }
          ],
          "scattermapbox": [
           {
            "marker": {
             "colorbar": {
              "outlinewidth": 0,
              "ticks": ""
             }
            },
            "type": "scattermapbox"
           }
          ],
          "scatterpolar": [
           {
            "marker": {
             "colorbar": {
              "outlinewidth": 0,
              "ticks": ""
             }
            },
            "type": "scatterpolar"
           }
          ],
          "scatterpolargl": [
           {
            "marker": {
             "colorbar": {
              "outlinewidth": 0,
              "ticks": ""
             }
            },
            "type": "scatterpolargl"
           }
          ],
          "scatterternary": [
           {
            "marker": {
             "colorbar": {
              "outlinewidth": 0,
              "ticks": ""
             }
            },
            "type": "scatterternary"
           }
          ],
          "surface": [
           {
            "colorbar": {
             "outlinewidth": 0,
             "ticks": ""
            },
            "colorscale": [
             [
              0,
              "#0d0887"
             ],
             [
              0.1111111111111111,
              "#46039f"
             ],
             [
              0.2222222222222222,
              "#7201a8"
             ],
             [
              0.3333333333333333,
              "#9c179e"
             ],
             [
              0.4444444444444444,
              "#bd3786"
             ],
             [
              0.5555555555555556,
              "#d8576b"
             ],
             [
              0.6666666666666666,
              "#ed7953"
             ],
             [
              0.7777777777777778,
              "#fb9f3a"
             ],
             [
              0.8888888888888888,
              "#fdca26"
             ],
             [
              1,
              "#f0f921"
             ]
            ],
            "type": "surface"
           }
          ],
          "table": [
           {
            "cells": {
             "fill": {
              "color": "#EBF0F8"
             },
             "line": {
              "color": "white"
             }
            },
            "header": {
             "fill": {
              "color": "#C8D4E3"
             },
             "line": {
              "color": "white"
             }
            },
            "type": "table"
           }
          ]
         },
         "layout": {
          "annotationdefaults": {
           "arrowcolor": "#2a3f5f",
           "arrowhead": 0,
           "arrowwidth": 1
          },
          "autotypenumbers": "strict",
          "coloraxis": {
           "colorbar": {
            "outlinewidth": 0,
            "ticks": ""
           }
          },
          "colorscale": {
           "diverging": [
            [
             0,
             "#8e0152"
            ],
            [
             0.1,
             "#c51b7d"
            ],
            [
             0.2,
             "#de77ae"
            ],
            [
             0.3,
             "#f1b6da"
            ],
            [
             0.4,
             "#fde0ef"
            ],
            [
             0.5,
             "#f7f7f7"
            ],
            [
             0.6,
             "#e6f5d0"
            ],
            [
             0.7,
             "#b8e186"
            ],
            [
             0.8,
             "#7fbc41"
            ],
            [
             0.9,
             "#4d9221"
            ],
            [
             1,
             "#276419"
            ]
           ],
           "sequential": [
            [
             0,
             "#0d0887"
            ],
            [
             0.1111111111111111,
             "#46039f"
            ],
            [
             0.2222222222222222,
             "#7201a8"
            ],
            [
             0.3333333333333333,
             "#9c179e"
            ],
            [
             0.4444444444444444,
             "#bd3786"
            ],
            [
             0.5555555555555556,
             "#d8576b"
            ],
            [
             0.6666666666666666,
             "#ed7953"
            ],
            [
             0.7777777777777778,
             "#fb9f3a"
            ],
            [
             0.8888888888888888,
             "#fdca26"
            ],
            [
             1,
             "#f0f921"
            ]
           ],
           "sequentialminus": [
            [
             0,
             "#0d0887"
            ],
            [
             0.1111111111111111,
             "#46039f"
            ],
            [
             0.2222222222222222,
             "#7201a8"
            ],
            [
             0.3333333333333333,
             "#9c179e"
            ],
            [
             0.4444444444444444,
             "#bd3786"
            ],
            [
             0.5555555555555556,
             "#d8576b"
            ],
            [
             0.6666666666666666,
             "#ed7953"
            ],
            [
             0.7777777777777778,
             "#fb9f3a"
            ],
            [
             0.8888888888888888,
             "#fdca26"
            ],
            [
             1,
             "#f0f921"
            ]
           ]
          },
          "colorway": [
           "#636efa",
           "#EF553B",
           "#00cc96",
           "#ab63fa",
           "#FFA15A",
           "#19d3f3",
           "#FF6692",
           "#B6E880",
           "#FF97FF",
           "#FECB52"
          ],
          "font": {
           "color": "#2a3f5f"
          },
          "geo": {
           "bgcolor": "white",
           "lakecolor": "white",
           "landcolor": "#E5ECF6",
           "showlakes": true,
           "showland": true,
           "subunitcolor": "white"
          },
          "hoverlabel": {
           "align": "left"
          },
          "hovermode": "closest",
          "mapbox": {
           "style": "light"
          },
          "paper_bgcolor": "white",
          "plot_bgcolor": "#E5ECF6",
          "polar": {
           "angularaxis": {
            "gridcolor": "white",
            "linecolor": "white",
            "ticks": ""
           },
           "bgcolor": "#E5ECF6",
           "radialaxis": {
            "gridcolor": "white",
            "linecolor": "white",
            "ticks": ""
           }
          },
          "scene": {
           "xaxis": {
            "backgroundcolor": "#E5ECF6",
            "gridcolor": "white",
            "gridwidth": 2,
            "linecolor": "white",
            "showbackground": true,
            "ticks": "",
            "zerolinecolor": "white"
           },
           "yaxis": {
            "backgroundcolor": "#E5ECF6",
            "gridcolor": "white",
            "gridwidth": 2,
            "linecolor": "white",
            "showbackground": true,
            "ticks": "",
            "zerolinecolor": "white"
           },
           "zaxis": {
            "backgroundcolor": "#E5ECF6",
            "gridcolor": "white",
            "gridwidth": 2,
            "linecolor": "white",
            "showbackground": true,
            "ticks": "",
            "zerolinecolor": "white"
           }
          },
          "shapedefaults": {
           "line": {
            "color": "#2a3f5f"
           }
          },
          "ternary": {
           "aaxis": {
            "gridcolor": "white",
            "linecolor": "white",
            "ticks": ""
           },
           "baxis": {
            "gridcolor": "white",
            "linecolor": "white",
            "ticks": ""
           },
           "bgcolor": "#E5ECF6",
           "caxis": {
            "gridcolor": "white",
            "linecolor": "white",
            "ticks": ""
           }
          },
          "title": {
           "x": 0.05
          },
          "xaxis": {
           "automargin": true,
           "gridcolor": "white",
           "linecolor": "white",
           "ticks": "",
           "title": {
            "standoff": 15
           },
           "zerolinecolor": "white",
           "zerolinewidth": 2
          },
          "yaxis": {
           "automargin": true,
           "gridcolor": "white",
           "linecolor": "white",
           "ticks": "",
           "title": {
            "standoff": 15
           },
           "zerolinecolor": "white",
           "zerolinewidth": 2
          }
         }
        },
        "title": {
         "text": "Trend of Sales Over Time",
         "x": 0.5
        },
        "xaxis": {
         "anchor": "y",
         "domain": [
          0,
          1
         ],
         "rangeslider": {
          "visible": true
         },
         "title": {
          "text": "date"
         }
        },
        "yaxis": {
         "anchor": "x",
         "domain": [
          0,
          1
         ],
         "title": {
          "text": "sales"
         }
        }
       }
      }
     },
     "metadata": {},
     "output_type": "display_data"
    }
   ],
   "source": [
    "# Group the data by date and calculate the total sales\n",
    "daily_sales = data.groupby('date')['sales'].sum().reset_index()\n",
    "\n",
    "# Create a time series plot with slider\n",
    "fig = px.line(daily_sales, x='date', y='sales')\n",
    "fig.update_xaxes(rangeslider_visible=True)\n",
    "fig.update_layout(title='Trend of Sales Over Time', title_x=0.5)\n",
    "fig.show()"
   ]
  },
  {
   "cell_type": "code",
   "execution_count": 219,
   "metadata": {},
   "outputs": [
    {
     "data": {
      "image/png": "[encoded data removed]",
      "text/plain": [
       "<Figure size 1000x600 with 1 Axes>"
      ]
     },
     "metadata": {},
     "output_type": "display_data"
    }
   ],
   "source": [
    "daily_sales = data.groupby('date')['sales'].sum().reset_index()\n",
    "plt.figure(figsize=(10, 6))\n",
    "plt.plot(daily_sales, label='Sales Trend', marker='o', linestyle='-')\n",
    "plt.xlabel('Date')\n",
    "plt.ylabel('Sales')\n",
    "plt.title('Sales Trend Over Time')\n",
    "plt.grid(True)\n",
    "plt.legend()\n",
    "plt.show()"
   ]
  },
  {
   "cell_type": "markdown",
   "metadata": {},
   "source": [
    "The plot shows the trend of sales over time. From the graph, we can observe that the sales exhibit some variations and fluctuations over time. There are periods of both high and low sales, indicating potential seasonality or other factors affecting sales patterns."
   ]
  },
  {
   "cell_type": "markdown",
   "metadata": {},
   "source": [
    "### Trend of Crude oil Prices"
   ]
  },
  {
   "cell_type": "code",
   "execution_count": 221,
   "metadata": {},
   "outputs": [
    {
     "data": {
      "application/vnd.plotly.v1+json": {
       "config": {
        "plotlyServerURL": "https://plot.ly"
       },
       "data": [
        {
         "hovertemplate": "date=%{x}<br>dcoilwtico=%{y}<extra></extra>",
         "legendgroup": "",
         "line": {
          "color": "#636efa",
          "dash": "solid"
         },
         "marker": {
          "symbol": "circle"
         },
         "mode": "lines",
         "name": "",
         "showlegend": false,
         "type": "scattergl",
         "x": [
          "2013-01-01T00:00:00",
          "2013-01-02T00:00:00",
          "2013-01-03T00:00:00",
          "2013-01-04T00:00:00",
          "2013-01-07T00:00:00",
          "2013-01-08T00:00:00",
          "2013-01-09T00:00:00",
          "2013-01-10T00:00:00",
          "2013-01-11T00:00:00",
          "2013-01-14T00:00:00",
          "2013-01-15T00:00:00",
          "2013-01-16T00:00:00",
          "2013-01-17T00:00:00",
          "2013-01-18T00:00:00",
          "2013-01-21T00:00:00",
          "2013-01-22T00:00:00",
          "2013-01-23T00:00:00",
          "2013-01-24T00:00:00",
          "2013-01-25T00:00:00",
          "2013-01-28T00:00:00",
          "2013-01-29T00:00:00",
          "2013-01-30T00:00:00",
          "2013-01-31T00:00:00",
          "2013-02-01T00:00:00",
          "2013-02-04T00:00:00",
          "2013-02-05T00:00:00",
          "2013-02-06T00:00:00",
          "2013-02-07T00:00:00",
          "2013-02-08T00:00:00",
          "2013-02-11T00:00:00",
          "2013-02-12T00:00:00",
          "2013-02-13T00:00:00",
          "2013-02-14T00:00:00",
          "2013-02-15T00:00:00",
          "2013-02-18T00:00:00",
          "2013-02-19T00:00:00",
          "2013-02-20T00:00:00",
          "2013-02-21T00:00:00",
          "2013-02-22T00:00:00",
          "2013-02-25T00:00:00",
          "2013-02-26T00:00:00",
          "2013-02-27T00:00:00",
          "2013-02-28T00:00:00",
          "2013-03-01T00:00:00",
          "2013-03-04T00:00:00",
          "2013-03-05T00:00:00",
          "2013-03-06T00:00:00",
          "2013-03-07T00:00:00",
          "2013-03-08T00:00:00",
          "2013-03-11T00:00:00",
          "2013-03-12T00:00:00",
          "2013-03-13T00:00:00",
          "2013-03-14T00:00:00",
          "2013-03-15T00:00:00",
          "2013-03-18T00:00:00",
          "2013-03-19T00:00:00",
          "2013-03-20T00:00:00",
          "2013-03-21T00:00:00",
          "2013-03-22T00:00:00",
          "2013-03-25T00:00:00",
          "2013-03-26T00:00:00",
          "2013-03-27T00:00:00",
          "2013-03-28T00:00:00",
          "2013-03-29T00:00:00",
          "2013-04-01T00:00:00",
          "2013-04-02T00:00:00",
          "2013-04-03T00:00:00",
          "2013-04-04T00:00:00",
          "2013-04-05T00:00:00",
          "2013-04-08T00:00:00",
          "2013-04-09T00:00:00",
          "2013-04-10T00:00:00",
          "2013-04-11T00:00:00",
          "2013-04-12T00:00:00",
          "2013-04-15T00:00:00",
          "2013-04-16T00:00:00",
          "2013-04-17T00:00:00",
          "2013-04-18T00:00:00",
          "2013-04-19T00:00:00",
          "2013-04-22T00:00:00",
          "2013-04-23T00:00:00",
          "2013-04-24T00:00:00",
          "2013-04-25T00:00:00",
          "2013-04-26T00:00:00",
          "2013-04-29T00:00:00",
          "2013-04-30T00:00:00",
          "2013-05-01T00:00:00",
          "2013-05-02T00:00:00",
          "2013-05-03T00:00:00",
          "2013-05-06T00:00:00",
          "2013-05-07T00:00:00",
          "2013-05-08T00:00:00",
          "2013-05-09T00:00:00",
          "2013-05-10T00:00:00",
          "2013-05-13T00:00:00",
          "2013-05-14T00:00:00",
          "2013-05-15T00:00:00",
          "2013-05-16T00:00:00",
          "2013-05-17T00:00:00",
          "2013-05-20T00:00:00",
          "2013-05-21T00:00:00",
          "2013-05-22T00:00:00",
          "2013-05-23T00:00:00",
          "2013-05-24T00:00:00",
          "2013-05-27T00:00:00",
          "2013-05-28T00:00:00",
          "2013-05-29T00:00:00",
          "2013-05-30T00:00:00",
          "2013-05-31T00:00:00",
          "2013-06-03T00:00:00",
          "2013-06-04T00:00:00",
          "2013-06-05T00:00:00",
          "2013-06-06T00:00:00",
          "2013-06-07T00:00:00",
          "2013-06-10T00:00:00",
          "2013-06-11T00:00:00",
          "2013-06-12T00:00:00",
          "2013-06-13T00:00:00",
          "2013-06-14T00:00:00",
          "2013-06-17T00:00:00",
          "2013-06-18T00:00:00",
          "2013-06-19T00:00:00",
          "2013-06-20T00:00:00",
          "2013-06-21T00:00:00",
          "2013-06-24T00:00:00",
          "2013-06-25T00:00:00",
          "2013-06-26T00:00:00",
          "2013-06-27T00:00:00",
          "2013-06-28T00:00:00",
          "2013-07-01T00:00:00",
          "2013-07-02T00:00:00",
          "2013-07-03T00:00:00",
          "2013-07-04T00:00:00",
          "2013-07-05T00:00:00",
          "2013-07-08T00:00:00",
          "2013-07-09T00:00:00",
          "2013-07-10T00:00:00",
          "2013-07-11T00:00:00",
          "2013-07-12T00:00:00",
          "2013-07-15T00:00:00",
          "2013-07-16T00:00:00",
          "2013-07-17T00:00:00",
          "2013-07-18T00:00:00",
          "2013-07-19T00:00:00",
          "2013-07-22T00:00:00",
          "2013-07-23T00:00:00",
          "2013-07-24T00:00:00",
          "2013-07-25T00:00:00",
          "2013-07-26T00:00:00",
          "2013-07-29T00:00:00",
          "2013-07-30T00:00:00",
          "2013-07-31T00:00:00",
          "2013-08-01T00:00:00",
          "2013-08-02T00:00:00",
          "2013-08-05T00:00:00",
          "2013-08-06T00:00:00",
          "2013-08-07T00:00:00",
          "2013-08-08T00:00:00",
          "2013-08-09T00:00:00",
          "2013-08-12T00:00:00",
          "2013-08-13T00:00:00",
          "2013-08-14T00:00:00",
          "2013-08-15T00:00:00",
          "2013-08-16T00:00:00",
          "2013-08-19T00:00:00",
          "2013-08-20T00:00:00",
          "2013-08-21T00:00:00",
          "2013-08-22T00:00:00",
          "2013-08-23T00:00:00",
          "2013-08-26T00:00:00",
          "2013-08-27T00:00:00",
          "2013-08-28T00:00:00",
          "2013-08-29T00:00:00",
          "2013-08-30T00:00:00",
          "2013-09-02T00:00:00",
          "2013-09-03T00:00:00",
          "2013-09-04T00:00:00",
          "2013-09-05T00:00:00",
          "2013-09-06T00:00:00",
          "2013-09-09T00:00:00",
          "2013-09-10T00:00:00",
          "2013-09-11T00:00:00",
          "2013-09-12T00:00:00",
          "2013-09-13T00:00:00",
          "2013-09-16T00:00:00",
          "2013-09-17T00:00:00",
          "2013-09-18T00:00:00",
          "2013-09-19T00:00:00",
          "2013-09-20T00:00:00",
          "2013-09-23T00:00:00",
          "2013-09-24T00:00:00",
          "2013-09-25T00:00:00",
          "2013-09-26T00:00:00",
          "2013-09-27T00:00:00",
          "2013-09-30T00:00:00",
          "2013-10-01T00:00:00",
          "2013-10-02T00:00:00",
          "2013-10-03T00:00:00",
          "2013-10-04T00:00:00",
          "2013-10-07T00:00:00",
          "2013-10-08T00:00:00",
          "2013-10-09T00:00:00",
          "2013-10-10T00:00:00",
          "2013-10-11T00:00:00",
          "2013-10-14T00:00:00",
          "2013-10-15T00:00:00",
          "2013-10-16T00:00:00",
          "2013-10-17T00:00:00",
          "2013-10-18T00:00:00",
          "2013-10-21T00:00:00",
          "2013-10-22T00:00:00",
          "2013-10-23T00:00:00",
          "2013-10-24T00:00:00",
          "2013-10-25T00:00:00",
          "2013-10-28T00:00:00",
          "2013-10-29T00:00:00",
          "2013-10-30T00:00:00",
          "2013-10-31T00:00:00",
          "2013-11-01T00:00:00",
          "2013-11-04T00:00:00",
          "2013-11-05T00:00:00",
          "2013-11-06T00:00:00",
          "2013-11-07T00:00:00",
          "2013-11-08T00:00:00",
          "2013-11-11T00:00:00",
          "2013-11-12T00:00:00",
          "2013-11-13T00:00:00",
          "2013-11-14T00:00:00",
          "2013-11-15T00:00:00",
          "2013-11-18T00:00:00",
          "2013-11-19T00:00:00",
          "2013-11-20T00:00:00",
          "2013-11-21T00:00:00",
          "2013-11-22T00:00:00",
          "2013-11-25T00:00:00",
          "2013-11-26T00:00:00",
          "2013-11-27T00:00:00",
          "2013-11-28T00:00:00",
          "2013-11-29T00:00:00",
          "2013-12-02T00:00:00",
          "2013-12-03T00:00:00",
          "2013-12-04T00:00:00",
          "2013-12-05T00:00:00",
          "2013-12-06T00:00:00",
          "2013-12-09T00:00:00",
          "2013-12-10T00:00:00",
          "2013-12-11T00:00:00",
          "2013-12-12T00:00:00",
          "2013-12-13T00:00:00",
          "2013-12-16T00:00:00",
          "2013-12-17T00:00:00",
          "2013-12-18T00:00:00",
          "2013-12-19T00:00:00",
          "2013-12-20T00:00:00",
          "2013-12-23T00:00:00",
          "2013-12-24T00:00:00",
          "2013-12-25T00:00:00",
          "2013-12-26T00:00:00",
          "2013-12-27T00:00:00",
          "2013-12-30T00:00:00",
          "2013-12-31T00:00:00",
          "2014-01-01T00:00:00",
          "2014-01-02T00:00:00",
          "2014-01-03T00:00:00",
          "2014-01-06T00:00:00",
          "2014-01-07T00:00:00",
          "2014-01-08T00:00:00",
          "2014-01-09T00:00:00",
          "2014-01-10T00:00:00",
          "2014-01-13T00:00:00",
          "2014-01-14T00:00:00",
          "2014-01-15T00:00:00",
          "2014-01-16T00:00:00",
          "2014-01-17T00:00:00",
          "2014-01-20T00:00:00",
          "2014-01-21T00:00:00",
          "2014-01-22T00:00:00",
          "2014-01-23T00:00:00",
          "2014-01-24T00:00:00",
          "2014-01-27T00:00:00",
          "2014-01-28T00:00:00",
          "2014-01-29T00:00:00",
          "2014-01-30T00:00:00",
          "2014-01-31T00:00:00",
          "2014-02-03T00:00:00",
          "2014-02-04T00:00:00",
          "2014-02-05T00:00:00",
          "2014-02-06T00:00:00",
          "2014-02-07T00:00:00",
          "2014-02-10T00:00:00",
          "2014-02-11T00:00:00",
          "2014-02-12T00:00:00",
          "2014-02-13T00:00:00",
          "2014-02-14T00:00:00",
          "2014-02-17T00:00:00",
          "2014-02-18T00:00:00",
          "2014-02-19T00:00:00",
          "2014-02-20T00:00:00",
          "2014-02-21T00:00:00",
          "2014-02-24T00:00:00",
          "2014-02-25T00:00:00",
          "2014-02-26T00:00:00",
          "2014-02-27T00:00:00",
          "2014-02-28T00:00:00",
          "2014-03-03T00:00:00",
          "2014-03-04T00:00:00",
          "2014-03-05T00:00:00",
          "2014-03-06T00:00:00",
          "2014-03-07T00:00:00",
          "2014-03-10T00:00:00",
          "2014-03-11T00:00:00",
          "2014-03-12T00:00:00",
          "2014-03-13T00:00:00",
          "2014-03-14T00:00:00",
          "2014-03-17T00:00:00",
          "2014-03-18T00:00:00",
          "2014-03-19T00:00:00",
          "2014-03-20T00:00:00",
          "2014-03-21T00:00:00",
          "2014-03-24T00:00:00",
          "2014-03-25T00:00:00",
          "2014-03-26T00:00:00",
          "2014-03-27T00:00:00",
          "2014-03-28T00:00:00",
          "2014-03-31T00:00:00",
          "2014-04-01T00:00:00",
          "2014-04-02T00:00:00",
          "2014-04-03T00:00:00",
          "2014-04-04T00:00:00",
          "2014-04-07T00:00:00",
          "2014-04-08T00:00:00",
          "2014-04-09T00:00:00",
          "2014-04-10T00:00:00",
          "2014-04-11T00:00:00",
          "2014-04-14T00:00:00",
          "2014-04-15T00:00:00",
          "2014-04-16T00:00:00",
          "2014-04-17T00:00:00",
          "2014-04-18T00:00:00",
          "2014-04-21T00:00:00",
          "2014-04-22T00:00:00",
          "2014-04-23T00:00:00",
          "2014-04-24T00:00:00",
          "2014-04-25T00:00:00",
          "2014-04-28T00:00:00",
          "2014-04-29T00:00:00",
          "2014-04-30T00:00:00",
          "2014-05-01T00:00:00",
          "2014-05-02T00:00:00",
          "2014-05-05T00:00:00",
          "2014-05-06T00:00:00",
          "2014-05-07T00:00:00",
          "2014-05-08T00:00:00",
          "2014-05-09T00:00:00",
          "2014-05-12T00:00:00",
          "2014-05-13T00:00:00",
          "2014-05-14T00:00:00",
          "2014-05-15T00:00:00",
          "2014-05-16T00:00:00",
          "2014-05-19T00:00:00",
          "2014-05-20T00:00:00",
          "2014-05-21T00:00:00",
          "2014-05-22T00:00:00",
          "2014-05-23T00:00:00",
          "2014-05-26T00:00:00",
          "2014-05-27T00:00:00",
          "2014-05-28T00:00:00",
          "2014-05-29T00:00:00",
          "2014-05-30T00:00:00",
          "2014-06-02T00:00:00",
          "2014-06-03T00:00:00",
          "2014-06-04T00:00:00",
          "2014-06-05T00:00:00",
          "2014-06-06T00:00:00",
          "2014-06-09T00:00:00",
          "2014-06-10T00:00:00",
          "2014-06-11T00:00:00",
          "2014-06-12T00:00:00",
          "2014-06-13T00:00:00",
          "2014-06-16T00:00:00",
          "2014-06-17T00:00:00",
          "2014-06-18T00:00:00",
          "2014-06-19T00:00:00",
          "2014-06-20T00:00:00",
          "2014-06-23T00:00:00",
          "2014-06-24T00:00:00",
          "2014-06-25T00:00:00",
          "2014-06-26T00:00:00",
          "2014-06-27T00:00:00",
          "2014-06-30T00:00:00",
          "2014-07-01T00:00:00",
          "2014-07-02T00:00:00",
          "2014-07-03T00:00:00",
          "2014-07-04T00:00:00",
          "2014-07-07T00:00:00",
          "2014-07-08T00:00:00",
          "2014-07-09T00:00:00",
          "2014-07-10T00:00:00",
          "2014-07-11T00:00:00",
          "2014-07-14T00:00:00",
          "2014-07-15T00:00:00",
          "2014-07-16T00:00:00",
          "2014-07-17T00:00:00",
          "2014-07-18T00:00:00",
          "2014-07-21T00:00:00",
          "2014-07-22T00:00:00",
          "2014-07-23T00:00:00",
          "2014-07-24T00:00:00",
          "2014-07-25T00:00:00",
          "2014-07-28T00:00:00",
          "2014-07-29T00:00:00",
          "2014-07-30T00:00:00",
          "2014-07-31T00:00:00",
          "2014-08-01T00:00:00",
          "2014-08-04T00:00:00",
          "2014-08-05T00:00:00",
          "2014-08-06T00:00:00",
          "2014-08-07T00:00:00",
          "2014-08-08T00:00:00",
          "2014-08-11T00:00:00",
          "2014-08-12T00:00:00",
          "2014-08-13T00:00:00",
          "2014-08-14T00:00:00",
          "2014-08-15T00:00:00",
          "2014-08-18T00:00:00",
          "2014-08-19T00:00:00",
          "2014-08-20T00:00:00",
          "2014-08-21T00:00:00",
          "2014-08-22T00:00:00",
          "2014-08-25T00:00:00",
          "2014-08-26T00:00:00",
          "2014-08-27T00:00:00",
          "2014-08-28T00:00:00",
          "2014-08-29T00:00:00",
          "2014-09-01T00:00:00",
          "2014-09-02T00:00:00",
          "2014-09-03T00:00:00",
          "2014-09-04T00:00:00",
          "2014-09-05T00:00:00",
          "2014-09-08T00:00:00",
          "2014-09-09T00:00:00",
          "2014-09-10T00:00:00",
          "2014-09-11T00:00:00",
          "2014-09-12T00:00:00",
          "2014-09-15T00:00:00",
          "2014-09-16T00:00:00",
          "2014-09-17T00:00:00",
          "2014-09-18T00:00:00",
          "2014-09-19T00:00:00",
          "2014-09-22T00:00:00",
          "2014-09-23T00:00:00",
          "2014-09-24T00:00:00",
          "2014-09-25T00:00:00",
          "2014-09-26T00:00:00",
          "2014-09-29T00:00:00",
          "2014-09-30T00:00:00",
          "2014-10-01T00:00:00",
          "2014-10-02T00:00:00",
          "2014-10-03T00:00:00",
          "2014-10-06T00:00:00",
          "2014-10-07T00:00:00",
          "2014-10-08T00:00:00",
          "2014-10-09T00:00:00",
          "2014-10-10T00:00:00",
          "2014-10-13T00:00:00",
          "2014-10-14T00:00:00",
          "2014-10-15T00:00:00",
          "2014-10-16T00:00:00",
          "2014-10-17T00:00:00",
          "2014-10-20T00:00:00",
          "2014-10-21T00:00:00",
          "2014-10-22T00:00:00",
          "2014-10-23T00:00:00",
          "2014-10-24T00:00:00",
          "2014-10-27T00:00:00",
          "2014-10-28T00:00:00",
          "2014-10-29T00:00:00",
          "2014-10-30T00:00:00",
          "2014-10-31T00:00:00",
          "2014-11-03T00:00:00",
          "2014-11-04T00:00:00",
          "2014-11-05T00:00:00",
          "2014-11-06T00:00:00",
          "2014-11-07T00:00:00",
          "2014-11-10T00:00:00",
          "2014-11-11T00:00:00",
          "2014-11-12T00:00:00",
          "2014-11-13T00:00:00",
          "2014-11-14T00:00:00",
          "2014-11-17T00:00:00",
          "2014-11-18T00:00:00",
          "2014-11-19T00:00:00",
          "2014-11-20T00:00:00",
          "2014-11-21T00:00:00",
          "2014-11-24T00:00:00",
          "2014-11-25T00:00:00",
          "2014-11-26T00:00:00",
          "2014-11-27T00:00:00",
          "2014-11-28T00:00:00",
          "2014-12-01T00:00:00",
          "2014-12-02T00:00:00",
          "2014-12-03T00:00:00",
          "2014-12-04T00:00:00",
          "2014-12-05T00:00:00",
          "2014-12-08T00:00:00",
          "2014-12-09T00:00:00",
          "2014-12-10T00:00:00",
          "2014-12-11T00:00:00",
          "2014-12-12T00:00:00",
          "2014-12-15T00:00:00",
          "2014-12-16T00:00:00",
          "2014-12-17T00:00:00",
          "2014-12-18T00:00:00",
          "2014-12-19T00:00:00",
          "2014-12-22T00:00:00",
          "2014-12-23T00:00:00",
          "2014-12-24T00:00:00",
          "2014-12-25T00:00:00",
          "2014-12-26T00:00:00",
          "2014-12-29T00:00:00",
          "2014-12-30T00:00:00",
          "2014-12-31T00:00:00",
          "2015-01-01T00:00:00",
          "2015-01-02T00:00:00",
          "2015-01-05T00:00:00",
          "2015-01-06T00:00:00",
          "2015-01-07T00:00:00",
          "2015-01-08T00:00:00",
          "2015-01-09T00:00:00",
          "2015-01-12T00:00:00",
          "2015-01-13T00:00:00",
          "2015-01-14T00:00:00",
          "2015-01-15T00:00:00",
          "2015-01-16T00:00:00",
          "2015-01-19T00:00:00",
          "2015-01-20T00:00:00",
          "2015-01-21T00:00:00",
          "2015-01-22T00:00:00",
          "2015-01-23T00:00:00",
          "2015-01-26T00:00:00",
          "2015-01-27T00:00:00",
          "2015-01-28T00:00:00",
          "2015-01-29T00:00:00",
          "2015-01-30T00:00:00",
          "2015-02-02T00:00:00",
          "2015-02-03T00:00:00",
          "2015-02-04T00:00:00",
          "2015-02-05T00:00:00",
          "2015-02-06T00:00:00",
          "2015-02-09T00:00:00",
          "2015-02-10T00:00:00",
          "2015-02-11T00:00:00",
          "2015-02-12T00:00:00",
          "2015-02-13T00:00:00",
          "2015-02-16T00:00:00",
          "2015-02-17T00:00:00",
          "2015-02-18T00:00:00",
          "2015-02-19T00:00:00",
          "2015-02-20T00:00:00",
          "2015-02-23T00:00:00",
          "2015-02-24T00:00:00",
          "2015-02-25T00:00:00",
          "2015-02-26T00:00:00",
          "2015-02-27T00:00:00",
          "2015-03-02T00:00:00",
          "2015-03-03T00:00:00",
          "2015-03-04T00:00:00",
          "2015-03-05T00:00:00",
          "2015-03-06T00:00:00",
          "2015-03-09T00:00:00",
          "2015-03-10T00:00:00",
          "2015-03-11T00:00:00",
          "2015-03-12T00:00:00",
          "2015-03-13T00:00:00",
          "2015-03-16T00:00:00",
          "2015-03-17T00:00:00",
          "2015-03-18T00:00:00",
          "2015-03-19T00:00:00",
          "2015-03-20T00:00:00",
          "2015-03-23T00:00:00",
          "2015-03-24T00:00:00",
          "2015-03-25T00:00:00",
          "2015-03-26T00:00:00",
          "2015-03-27T00:00:00",
          "2015-03-30T00:00:00",
          "2015-03-31T00:00:00",
          "2015-04-01T00:00:00",
          "2015-04-02T00:00:00",
          "2015-04-03T00:00:00",
          "2015-04-06T00:00:00",
          "2015-04-07T00:00:00",
          "2015-04-08T00:00:00",
          "2015-04-09T00:00:00",
          "2015-04-10T00:00:00",
          "2015-04-13T00:00:00",
          "2015-04-14T00:00:00",
          "2015-04-15T00:00:00",
          "2015-04-16T00:00:00",
          "2015-04-17T00:00:00",
          "2015-04-20T00:00:00",
          "2015-04-21T00:00:00",
          "2015-04-22T00:00:00",
          "2015-04-23T00:00:00",
          "2015-04-24T00:00:00",
          "2015-04-27T00:00:00",
          "2015-04-28T00:00:00",
          "2015-04-29T00:00:00",
          "2015-04-30T00:00:00",
          "2015-05-01T00:00:00",
          "2015-05-04T00:00:00",
          "2015-05-05T00:00:00",
          "2015-05-06T00:00:00",
          "2015-05-07T00:00:00",
          "2015-05-08T00:00:00",
          "2015-05-11T00:00:00",
          "2015-05-12T00:00:00",
          "2015-05-13T00:00:00",
          "2015-05-14T00:00:00",
          "2015-05-15T00:00:00",
          "2015-05-18T00:00:00",
          "2015-05-19T00:00:00",
          "2015-05-20T00:00:00",
          "2015-05-21T00:00:00",
          "2015-05-22T00:00:00",
          "2015-05-25T00:00:00",
          "2015-05-26T00:00:00",
          "2015-05-27T00:00:00",
          "2015-05-28T00:00:00",
          "2015-05-29T00:00:00",
          "2015-06-01T00:00:00",
          "2015-06-02T00:00:00",
          "2015-06-03T00:00:00",
          "2015-06-04T00:00:00",
          "2015-06-05T00:00:00",
          "2015-06-08T00:00:00",
          "2015-06-09T00:00:00",
          "2015-06-10T00:00:00",
          "2015-06-11T00:00:00",
          "2015-06-12T00:00:00",
          "2015-06-15T00:00:00",
          "2015-06-16T00:00:00",
          "2015-06-17T00:00:00",
          "2015-06-18T00:00:00",
          "2015-06-19T00:00:00",
          "2015-06-22T00:00:00",
          "2015-06-23T00:00:00",
          "2015-06-24T00:00:00",
          "2015-06-25T00:00:00",
          "2015-06-26T00:00:00",
          "2015-06-29T00:00:00",
          "2015-06-30T00:00:00",
          "2015-07-01T00:00:00",
          "2015-07-02T00:00:00",
          "2015-07-03T00:00:00",
          "2015-07-06T00:00:00",
          "2015-07-07T00:00:00",
          "2015-07-08T00:00:00",
          "2015-07-09T00:00:00",
          "2015-07-10T00:00:00",
          "2015-07-13T00:00:00",
          "2015-07-14T00:00:00",
          "2015-07-15T00:00:00",
          "2015-07-16T00:00:00",
          "2015-07-17T00:00:00",
          "2015-07-20T00:00:00",
          "2015-07-21T00:00:00",
          "2015-07-22T00:00:00",
          "2015-07-23T00:00:00",
          "2015-07-24T00:00:00",
          "2015-07-27T00:00:00",
          "2015-07-28T00:00:00",
          "2015-07-29T00:00:00",
          "2015-07-30T00:00:00",
          "2015-07-31T00:00:00",
          "2015-08-03T00:00:00",
          "2015-08-04T00:00:00",
          "2015-08-05T00:00:00",
          "2015-08-06T00:00:00",
          "2015-08-07T00:00:00",
          "2015-08-10T00:00:00",
          "2015-08-11T00:00:00",
          "2015-08-12T00:00:00",
          "2015-08-13T00:00:00",
          "2015-08-14T00:00:00",
          "2015-08-17T00:00:00",
          "2015-08-18T00:00:00",
          "2015-08-19T00:00:00",
          "2015-08-20T00:00:00",
          "2015-08-21T00:00:00",
          "2015-08-24T00:00:00",
          "2015-08-25T00:00:00",
          "2015-08-26T00:00:00",
          "2015-08-27T00:00:00",
          "2015-08-28T00:00:00",
          "2015-08-31T00:00:00",
          "2015-09-01T00:00:00",
          "2015-09-02T00:00:00",
          "2015-09-03T00:00:00",
          "2015-09-04T00:00:00",
          "2015-09-07T00:00:00",
          "2015-09-08T00:00:00",
          "2015-09-09T00:00:00",
          "2015-09-10T00:00:00",
          "2015-09-11T00:00:00",
          "2015-09-14T00:00:00",
          "2015-09-15T00:00:00",
          "2015-09-16T00:00:00",
          "2015-09-17T00:00:00",
          "2015-09-18T00:00:00",
          "2015-09-21T00:00:00",
          "2015-09-22T00:00:00",
          "2015-09-23T00:00:00",
          "2015-09-24T00:00:00",
          "2015-09-25T00:00:00",
          "2015-09-28T00:00:00",
          "2015-09-29T00:00:00",
          "2015-09-30T00:00:00",
          "2015-10-01T00:00:00",
          "2015-10-02T00:00:00",
          "2015-10-05T00:00:00",
          "2015-10-06T00:00:00",
          "2015-10-07T00:00:00",
          "2015-10-08T00:00:00",
          "2015-10-09T00:00:00",
          "2015-10-12T00:00:00",
          "2015-10-13T00:00:00",
          "2015-10-14T00:00:00",
          "2015-10-15T00:00:00",
          "2015-10-16T00:00:00",
          "2015-10-19T00:00:00",
          "2015-10-20T00:00:00",
          "2015-10-21T00:00:00",
          "2015-10-22T00:00:00",
          "2015-10-23T00:00:00",
          "2015-10-26T00:00:00",
          "2015-10-27T00:00:00",
          "2015-10-28T00:00:00",
          "2015-10-29T00:00:00",
          "2015-10-30T00:00:00",
          "2015-11-02T00:00:00",
          "2015-11-03T00:00:00",
          "2015-11-04T00:00:00",
          "2015-11-05T00:00:00",
          "2015-11-06T00:00:00",
          "2015-11-09T00:00:00",
          "2015-11-10T00:00:00",
          "2015-11-11T00:00:00",
          "2015-11-12T00:00:00",
          "2015-11-13T00:00:00",
          "2015-11-16T00:00:00",
          "2015-11-17T00:00:00",
          "2015-11-18T00:00:00",
          "2015-11-19T00:00:00",
          "2015-11-20T00:00:00",
          "2015-11-23T00:00:00",
          "2015-11-24T00:00:00",
          "2015-11-25T00:00:00",
          "2015-11-26T00:00:00",
          "2015-11-27T00:00:00",
          "2015-11-30T00:00:00",
          "2015-12-01T00:00:00",
          "2015-12-02T00:00:00",
          "2015-12-03T00:00:00",
          "2015-12-04T00:00:00",
          "2015-12-07T00:00:00",
          "2015-12-08T00:00:00",
          "2015-12-09T00:00:00",
          "2015-12-10T00:00:00",
          "2015-12-11T00:00:00",
          "2015-12-14T00:00:00",
          "2015-12-15T00:00:00",
          "2015-12-16T00:00:00",
          "2015-12-17T00:00:00",
          "2015-12-18T00:00:00",
          "2015-12-21T00:00:00",
          "2015-12-22T00:00:00",
          "2015-12-23T00:00:00",
          "2015-12-24T00:00:00",
          "2015-12-25T00:00:00",
          "2015-12-28T00:00:00",
          "2015-12-29T00:00:00",
          "2015-12-30T00:00:00",
          "2015-12-31T00:00:00",
          "2016-01-01T00:00:00",
          "2016-01-04T00:00:00",
          "2016-01-05T00:00:00",
          "2016-01-06T00:00:00",
          "2016-01-07T00:00:00",
          "2016-01-08T00:00:00",
          "2016-01-11T00:00:00",
          "2016-01-12T00:00:00",
          "2016-01-13T00:00:00",
          "2016-01-14T00:00:00",
          "2016-01-15T00:00:00",
          "2016-01-18T00:00:00",
          "2016-01-19T00:00:00",
          "2016-01-20T00:00:00",
          "2016-01-21T00:00:00",
          "2016-01-22T00:00:00",
          "2016-01-25T00:00:00",
          "2016-01-26T00:00:00",
          "2016-01-27T00:00:00",
          "2016-01-28T00:00:00",
          "2016-01-29T00:00:00",
          "2016-02-01T00:00:00",
          "2016-02-02T00:00:00",
          "2016-02-03T00:00:00",
          "2016-02-04T00:00:00",
          "2016-02-05T00:00:00",
          "2016-02-08T00:00:00",
          "2016-02-09T00:00:00",
          "2016-02-10T00:00:00",
          "2016-02-11T00:00:00",
          "2016-02-12T00:00:00",
          "2016-02-15T00:00:00",
          "2016-02-16T00:00:00",
          "2016-02-17T00:00:00",
          "2016-02-18T00:00:00",
          "2016-02-19T00:00:00",
          "2016-02-22T00:00:00",
          "2016-02-23T00:00:00",
          "2016-02-24T00:00:00",
          "2016-02-25T00:00:00",
          "2016-02-26T00:00:00",
          "2016-02-29T00:00:00",
          "2016-03-01T00:00:00",
          "2016-03-02T00:00:00",
          "2016-03-03T00:00:00",
          "2016-03-04T00:00:00",
          "2016-03-07T00:00:00",
          "2016-03-08T00:00:00",
          "2016-03-09T00:00:00",
          "2016-03-10T00:00:00",
          "2016-03-11T00:00:00",
          "2016-03-14T00:00:00",
          "2016-03-15T00:00:00",
          "2016-03-16T00:00:00",
          "2016-03-17T00:00:00",
          "2016-03-18T00:00:00",
          "2016-03-21T00:00:00",
          "2016-03-22T00:00:00",
          "2016-03-23T00:00:00",
          "2016-03-24T00:00:00",
          "2016-03-25T00:00:00",
          "2016-03-28T00:00:00",
          "2016-03-29T00:00:00",
          "2016-03-30T00:00:00",
          "2016-03-31T00:00:00",
          "2016-04-01T00:00:00",
          "2016-04-04T00:00:00",
          "2016-04-05T00:00:00",
          "2016-04-06T00:00:00",
          "2016-04-07T00:00:00",
          "2016-04-08T00:00:00",
          "2016-04-11T00:00:00",
          "2016-04-12T00:00:00",
          "2016-04-13T00:00:00",
          "2016-04-14T00:00:00",
          "2016-04-15T00:00:00",
          "2016-04-18T00:00:00",
          "2016-04-19T00:00:00",
          "2016-04-20T00:00:00",
          "2016-04-21T00:00:00",
          "2016-04-22T00:00:00",
          "2016-04-25T00:00:00",
          "2016-04-26T00:00:00",
          "2016-04-27T00:00:00",
          "2016-04-28T00:00:00",
          "2016-04-29T00:00:00",
          "2016-05-02T00:00:00",
          "2016-05-03T00:00:00",
          "2016-05-04T00:00:00",
          "2016-05-05T00:00:00",
          "2016-05-06T00:00:00",
          "2016-05-09T00:00:00",
          "2016-05-10T00:00:00",
          "2016-05-11T00:00:00",
          "2016-05-12T00:00:00",
          "2016-05-13T00:00:00",
          "2016-05-16T00:00:00",
          "2016-05-17T00:00:00",
          "2016-05-18T00:00:00",
          "2016-05-19T00:00:00",
          "2016-05-20T00:00:00",
          "2016-05-23T00:00:00",
          "2016-05-24T00:00:00",
          "2016-05-25T00:00:00",
          "2016-05-26T00:00:00",
          "2016-05-27T00:00:00",
          "2016-05-30T00:00:00",
          "2016-05-31T00:00:00",
          "2016-06-01T00:00:00",
          "2016-06-02T00:00:00",
          "2016-06-03T00:00:00",
          "2016-06-06T00:00:00",
          "2016-06-07T00:00:00",
          "2016-06-08T00:00:00",
          "2016-06-09T00:00:00",
          "2016-06-10T00:00:00",
          "2016-06-13T00:00:00",
          "2016-06-14T00:00:00",
          "2016-06-15T00:00:00",
          "2016-06-16T00:00:00",
          "2016-06-17T00:00:00",
          "2016-06-20T00:00:00",
          "2016-06-21T00:00:00",
          "2016-06-22T00:00:00",
          "2016-06-23T00:00:00",
          "2016-06-24T00:00:00",
          "2016-06-27T00:00:00",
          "2016-06-28T00:00:00",
          "2016-06-29T00:00:00",
          "2016-06-30T00:00:00",
          "2016-07-01T00:00:00",
          "2016-07-04T00:00:00",
          "2016-07-05T00:00:00",
          "2016-07-06T00:00:00",
          "2016-07-07T00:00:00",
          "2016-07-08T00:00:00",
          "2016-07-11T00:00:00",
          "2016-07-12T00:00:00",
          "2016-07-13T00:00:00",
          "2016-07-14T00:00:00",
          "2016-07-15T00:00:00",
          "2016-07-18T00:00:00",
          "2016-07-19T00:00:00",
          "2016-07-20T00:00:00",
          "2016-07-21T00:00:00",
          "2016-07-22T00:00:00",
          "2016-07-25T00:00:00",
          "2016-07-26T00:00:00",
          "2016-07-27T00:00:00",
          "2016-07-28T00:00:00",
          "2016-07-29T00:00:00",
          "2016-08-01T00:00:00",
          "2016-08-02T00:00:00",
          "2016-08-03T00:00:00",
          "2016-08-04T00:00:00",
          "2016-08-05T00:00:00",
          "2016-08-08T00:00:00",
          "2016-08-09T00:00:00",
          "2016-08-10T00:00:00",
          "2016-08-11T00:00:00",
          "2016-08-12T00:00:00",
          "2016-08-15T00:00:00",
          "2016-08-16T00:00:00",
          "2016-08-17T00:00:00",
          "2016-08-18T00:00:00",
          "2016-08-19T00:00:00",
          "2016-08-22T00:00:00",
          "2016-08-23T00:00:00",
          "2016-08-24T00:00:00",
          "2016-08-25T00:00:00",
          "2016-08-26T00:00:00",
          "2016-08-29T00:00:00",
          "2016-08-30T00:00:00",
          "2016-08-31T00:00:00",
          "2016-09-01T00:00:00",
          "2016-09-02T00:00:00",
          "2016-09-05T00:00:00",
          "2016-09-06T00:00:00",
          "2016-09-07T00:00:00",
          "2016-09-08T00:00:00",
          "2016-09-09T00:00:00",
          "2016-09-12T00:00:00",
          "2016-09-13T00:00:00",
          "2016-09-14T00:00:00",
          "2016-09-15T00:00:00",
          "2016-09-16T00:00:00",
          "2016-09-19T00:00:00",
          "2016-09-20T00:00:00",
          "2016-09-21T00:00:00",
          "2016-09-22T00:00:00",
          "2016-09-23T00:00:00",
          "2016-09-26T00:00:00",
          "2016-09-27T00:00:00",
          "2016-09-28T00:00:00",
          "2016-09-29T00:00:00",
          "2016-09-30T00:00:00",
          "2016-10-03T00:00:00",
          "2016-10-04T00:00:00",
          "2016-10-05T00:00:00",
          "2016-10-06T00:00:00",
          "2016-10-07T00:00:00",
          "2016-10-10T00:00:00",
          "2016-10-11T00:00:00",
          "2016-10-12T00:00:00",
          "2016-10-13T00:00:00",
          "2016-10-14T00:00:00",
          "2016-10-17T00:00:00",
          "2016-10-18T00:00:00",
          "2016-10-19T00:00:00",
          "2016-10-20T00:00:00",
          "2016-10-21T00:00:00",
          "2016-10-24T00:00:00",
          "2016-10-25T00:00:00",
          "2016-10-26T00:00:00",
          "2016-10-27T00:00:00",
          "2016-10-28T00:00:00",
          "2016-10-31T00:00:00",
          "2016-11-01T00:00:00",
          "2016-11-02T00:00:00",
          "2016-11-03T00:00:00",
          "2016-11-04T00:00:00",
          "2016-11-07T00:00:00",
          "2016-11-08T00:00:00",
          "2016-11-09T00:00:00",
          "2016-11-10T00:00:00",
          "2016-11-11T00:00:00",
          "2016-11-14T00:00:00",
          "2016-11-15T00:00:00",
          "2016-11-16T00:00:00",
          "2016-11-17T00:00:00",
          "2016-11-18T00:00:00",
          "2016-11-21T00:00:00",
          "2016-11-22T00:00:00",
          "2016-11-23T00:00:00",
          "2016-11-24T00:00:00",
          "2016-11-25T00:00:00",
          "2016-11-28T00:00:00",
          "2016-11-29T00:00:00",
          "2016-11-30T00:00:00",
          "2016-12-01T00:00:00",
          "2016-12-02T00:00:00",
          "2016-12-05T00:00:00",
          "2016-12-06T00:00:00",
          "2016-12-07T00:00:00",
          "2016-12-08T00:00:00",
          "2016-12-09T00:00:00",
          "2016-12-12T00:00:00",
          "2016-12-13T00:00:00",
          "2016-12-14T00:00:00",
          "2016-12-15T00:00:00",
          "2016-12-16T00:00:00",
          "2016-12-19T00:00:00",
          "2016-12-20T00:00:00",
          "2016-12-21T00:00:00",
          "2016-12-22T00:00:00",
          "2016-12-23T00:00:00",
          "2016-12-26T00:00:00",
          "2016-12-27T00:00:00",
          "2016-12-28T00:00:00",
          "2016-12-29T00:00:00",
          "2016-12-30T00:00:00",
          "2017-01-02T00:00:00",
          "2017-01-03T00:00:00",
          "2017-01-04T00:00:00",
          "2017-01-05T00:00:00",
          "2017-01-06T00:00:00",
          "2017-01-09T00:00:00",
          "2017-01-10T00:00:00",
          "2017-01-11T00:00:00",
          "2017-01-12T00:00:00",
          "2017-01-13T00:00:00",
          "2017-01-16T00:00:00",
          "2017-01-17T00:00:00",
          "2017-01-18T00:00:00",
          "2017-01-19T00:00:00",
          "2017-01-20T00:00:00",
          "2017-01-23T00:00:00",
          "2017-01-24T00:00:00",
          "2017-01-25T00:00:00",
          "2017-01-26T00:00:00",
          "2017-01-27T00:00:00",
          "2017-01-30T00:00:00",
          "2017-01-31T00:00:00",
          "2017-02-01T00:00:00",
          "2017-02-02T00:00:00",
          "2017-02-03T00:00:00",
          "2017-02-06T00:00:00",
          "2017-02-07T00:00:00",
          "2017-02-08T00:00:00",
          "2017-02-09T00:00:00",
          "2017-02-10T00:00:00",
          "2017-02-13T00:00:00",
          "2017-02-14T00:00:00",
          "2017-02-15T00:00:00",
          "2017-02-16T00:00:00",
          "2017-02-17T00:00:00",
          "2017-02-20T00:00:00",
          "2017-02-21T00:00:00",
          "2017-02-22T00:00:00",
          "2017-02-23T00:00:00",
          "2017-02-24T00:00:00",
          "2017-02-27T00:00:00",
          "2017-02-28T00:00:00",
          "2017-03-01T00:00:00",
          "2017-03-02T00:00:00",
          "2017-03-03T00:00:00",
          "2017-03-06T00:00:00",
          "2017-03-07T00:00:00",
          "2017-03-08T00:00:00",
          "2017-03-09T00:00:00",
          "2017-03-10T00:00:00",
          "2017-03-13T00:00:00",
          "2017-03-14T00:00:00",
          "2017-03-15T00:00:00",
          "2017-03-16T00:00:00",
          "2017-03-17T00:00:00",
          "2017-03-20T00:00:00",
          "2017-03-21T00:00:00",
          "2017-03-22T00:00:00",
          "2017-03-23T00:00:00",
          "2017-03-24T00:00:00",
          "2017-03-27T00:00:00",
          "2017-03-28T00:00:00",
          "2017-03-29T00:00:00",
          "2017-03-30T00:00:00",
          "2017-03-31T00:00:00",
          "2017-04-03T00:00:00",
          "2017-04-04T00:00:00",
          "2017-04-05T00:00:00",
          "2017-04-06T00:00:00",
          "2017-04-07T00:00:00",
          "2017-04-10T00:00:00",
          "2017-04-11T00:00:00",
          "2017-04-12T00:00:00",
          "2017-04-13T00:00:00",
          "2017-04-14T00:00:00",
          "2017-04-17T00:00:00",
          "2017-04-18T00:00:00",
          "2017-04-19T00:00:00",
          "2017-04-20T00:00:00",
          "2017-04-21T00:00:00",
          "2017-04-24T00:00:00",
          "2017-04-25T00:00:00",
          "2017-04-26T00:00:00",
          "2017-04-27T00:00:00",
          "2017-04-28T00:00:00",
          "2017-05-01T00:00:00",
          "2017-05-02T00:00:00",
          "2017-05-03T00:00:00",
          "2017-05-04T00:00:00",
          "2017-05-05T00:00:00",
          "2017-05-08T00:00:00",
          "2017-05-09T00:00:00",
          "2017-05-10T00:00:00",
          "2017-05-11T00:00:00",
          "2017-05-12T00:00:00",
          "2017-05-15T00:00:00",
          "2017-05-16T00:00:00",
          "2017-05-17T00:00:00",
          "2017-05-18T00:00:00",
          "2017-05-19T00:00:00",
          "2017-05-22T00:00:00",
          "2017-05-23T00:00:00",
          "2017-05-24T00:00:00",
          "2017-05-25T00:00:00",
          "2017-05-26T00:00:00",
          "2017-05-29T00:00:00",
          "2017-05-30T00:00:00",
          "2017-05-31T00:00:00",
          "2017-06-01T00:00:00",
          "2017-06-02T00:00:00",
          "2017-06-05T00:00:00",
          "2017-06-06T00:00:00",
          "2017-06-07T00:00:00",
          "2017-06-08T00:00:00",
          "2017-06-09T00:00:00",
          "2017-06-12T00:00:00",
          "2017-06-13T00:00:00",
          "2017-06-14T00:00:00",
          "2017-06-15T00:00:00",
          "2017-06-16T00:00:00",
          "2017-06-19T00:00:00",
          "2017-06-20T00:00:00",
          "2017-06-21T00:00:00",
          "2017-06-22T00:00:00",
          "2017-06-23T00:00:00",
          "2017-06-26T00:00:00",
          "2017-06-27T00:00:00",
          "2017-06-28T00:00:00",
          "2017-06-29T00:00:00",
          "2017-06-30T00:00:00",
          "2017-07-03T00:00:00",
          "2017-07-04T00:00:00",
          "2017-07-05T00:00:00",
          "2017-07-06T00:00:00",
          "2017-07-07T00:00:00",
          "2017-07-10T00:00:00",
          "2017-07-11T00:00:00",
          "2017-07-12T00:00:00",
          "2017-07-13T00:00:00",
          "2017-07-14T00:00:00",
          "2017-07-17T00:00:00",
          "2017-07-18T00:00:00",
          "2017-07-19T00:00:00",
          "2017-07-20T00:00:00",
          "2017-07-21T00:00:00",
          "2017-07-24T00:00:00",
          "2017-07-25T00:00:00",
          "2017-07-26T00:00:00",
          "2017-07-27T00:00:00",
          "2017-07-28T00:00:00",
          "2017-07-31T00:00:00",
          "2017-08-01T00:00:00",
          "2017-08-02T00:00:00",
          "2017-08-03T00:00:00",
          "2017-08-04T00:00:00",
          "2017-08-07T00:00:00",
          "2017-08-08T00:00:00",
          "2017-08-09T00:00:00",
          "2017-08-10T00:00:00",
          "2017-08-11T00:00:00",
          "2017-08-14T00:00:00",
          "2017-08-15T00:00:00",
          "2017-08-16T00:00:00",
          "2017-08-17T00:00:00",
          "2017-08-18T00:00:00",
          "2017-08-21T00:00:00",
          "2017-08-22T00:00:00",
          "2017-08-23T00:00:00",
          "2017-08-24T00:00:00",
          "2017-08-25T00:00:00",
          "2017-08-28T00:00:00",
          "2017-08-29T00:00:00",
          "2017-08-30T00:00:00",
          "2017-08-31T00:00:00"
         ],
         "xaxis": "x",
         "y": [
          93.13999938964844,
          93.13999938964844,
          92.97000122070312,
          93.12000274658203,
          93.19999694824219,
          93.20999908447266,
          93.08000183105469,
          93.80999755859375,
          93.5999984741211,
          94.2699966430664,
          93.26000213623047,
          94.27999877929688,
          95.48999786376953,
          95.61000061035156,
          96.08999633789062,
          96.08999633789062,
          95.05999755859375,
          95.3499984741211,
          95.1500015258789,
          95.94999694824219,
          97.62000274658203,
          97.9800033569336,
          97.6500015258789,
          97.45999908447266,
          96.20999908447266,
          96.68000030517578,
          96.44000244140625,
          95.83999633789062,
          95.70999908447266,
          97.01000213623047,
          97.4800033569336,
          97.02999877929688,
          97.30000305175781,
          95.94999694824219,
          96.69000244140625,
          96.69000244140625,
          94.91999816894531,
          92.79000091552734,
          93.12000274658203,
          92.73999786376953,
          92.62999725341797,
          92.83999633789062,
          92.02999877929688,
          90.70999908447266,
          90.12999725341797,
          90.87999725341797,
          90.47000122070312,
          91.52999877929688,
          92.01000213623047,
          92.06999969482422,
          92.44000244140625,
          92.47000122070312,
          93.02999877929688,
          93.48999786376953,
          93.70999908447266,
          92.44000244140625,
          93.20999908447266,
          92.45999908447266,
          93.41000366210938,
          94.55000305175781,
          95.98999786376953,
          96.52999877929688,
          97.23999786376953,
          97.0999984741211,
          97.0999984741211,
          97.2300033569336,
          95.0199966430664,
          93.26000213623047,
          92.76000213623047,
          93.36000061035156,
          94.18000030517578,
          94.58999633789062,
          93.44000244140625,
          91.2300033569336,
          88.75,
          88.7300033569336,
          86.6500015258789,
          87.83000183105469,
          88.04000091552734,
          88.80999755859375,
          89.20999908447266,
          91.06999969482422,
          93.2699966430664,
          92.62999725341797,
          94.08999633789062,
          93.22000122070312,
          90.73999786376953,
          93.69999694824219,
          95.25,
          95.80000305175781,
          95.27999877929688,
          96.23999786376953,
          96.08999633789062,
          95.80999755859375,
          94.76000213623047,
          93.95999908447266,
          93.94999694824219,
          94.8499984741211,
          95.72000122070312,
          96.29000091552734,
          95.55000305175781,
          93.9800033569336,
          94.12000274658203,
          93.83999633789062,
          94.6500015258789,
          94.6500015258789,
          93.12999725341797,
          93.56999969482422,
          91.93000030517578,
          93.41000366210938,
          93.36000061035156,
          93.66000366210938,
          94.70999908447266,
          96.11000061035156,
          95.81999969482422,
          95.5,
          95.9800033569336,
          96.66000366210938,
          97.83000183105469,
          97.86000061035156,
          98.45999908447266,
          98.23999786376953,
          94.88999938964844,
          93.80999755859375,
          95.06999969482422,
          95.25,
          95.47000122070312,
          97,
          96.36000061035156,
          97.94000244140625,
          99.6500015258789,
          101.91999816894531,
          103.08999633789062,
          103.08999633789062,
          103.02999877929688,
          103.45999908447266,
          106.41000366210938,
          104.7699966430664,
          105.8499984741211,
          106.19999694824219,
          105.87999725341797,
          106.38999938964844,
          107.94000244140625,
          108,
          106.61000061035156,
          107.12999725341797,
          105.41000366210938,
          105.47000122070312,
          104.76000213623047,
          104.61000061035156,
          103.13999938964844,
          105.0999984741211,
          107.93000030517578,
          106.94000244140625,
          106.61000061035156,
          105.31999969482422,
          104.41000366210938,
          103.44999694824219,
          106.04000091552734,
          106.19000244140625,
          106.77999877929688,
          106.88999938964844,
          107.43000030517578,
          107.58000183105469,
          107.13999938964844,
          104.9000015258789,
          103.93000030517578,
          104.93000030517578,
          106.4800033569336,
          105.87999725341797,
          109.11000061035156,
          110.16999816894531,
          108.51000213623047,
          107.9800033569336,
          108.66999816894531,
          108.66999816894531,
          107.29000091552734,
          108.5,
          110.62000274658203,
          109.62000274658203,
          107.4800033569336,
          107.6500015258789,
          108.72000122070312,
          108.30999755859375,
          106.54000091552734,
          105.36000061035156,
          108.2300033569336,
          106.26000213623047,
          104.69999694824219,
          103.62000274658203,
          103.22000122070312,
          102.68000030517578,
          103.0999984741211,
          102.86000061035156,
          102.36000061035156,
          102.08999633789062,
          104.1500015258789,
          103.29000091552734,
          103.83000183105469,
          103.06999969482422,
          103.54000091552734,
          101.62999725341797,
          103.08000183105469,
          102.16999816894531,
          102.45999908447266,
          101.1500015258789,
          102.33999633789062,
          100.72000122070312,
          100.87000274658203,
          99.27999877929688,
          97.62999725341797,
          96.9000015258789,
          96.6500015258789,
          97.4000015258789,
          98.73999786376953,
          98.29000091552734,
          96.80999755859375,
          96.29000091552734,
          94.55999755859375,
          94.58000183105469,
          93.4000015258789,
          94.73999786376953,
          94.25,
          94.55999755859375,
          95.12999725341797,
          93.12000274658203,
          93.91000366210938,
          93.76000213623047,
          93.80000305175781,
          93.02999877929688,
          93.3499984741211,
          93.33999633789062,
          95.3499984741211,
          94.52999877929688,
          93.86000061035156,
          93.41000366210938,
          92.05000305175781,
          92.55000305175781,
          92.55000305175781,
          93.61000061035156,
          95.83000183105469,
          96.97000122070312,
          97.13999938964844,
          97.4800033569336,
          97.0999984741211,
          98.31999969482422,
          97.25,
          97.20999908447266,
          96.2699966430664,
          97.18000030517578,
          96.98999786376953,
          97.58999633789062,
          98.4000015258789,
          99.11000061035156,
          98.62000274658203,
          98.87000274658203,
          99.18000030517578,
          99.18000030517578,
          99.94000244140625,
          98.9000015258789,
          98.16999816894531,
          95.13999938964844,
          95.13999938964844,
          93.66000366210938,
          93.12000274658203,
          93.30999755859375,
          91.9000015258789,
          91.36000061035156,
          92.38999938964844,
          91.44999694824219,
          92.1500015258789,
          93.77999877929688,
          93.54000091552734,
          93.95999908447266,
          94.51000213623047,
          94.51000213623047,
          96.3499984741211,
          97.2300033569336,
          96.66000366210938,
          95.81999969482422,
          97.48999786376953,
          97.33999633789062,
          98.25,
          97.55000305175781,
          96.44000244140625,
          97.23999786376953,
          97.4000015258789,
          97.83999633789062,
          99.9800033569336,
          100.12000274658203,
          99.95999908447266,
          100.37999725341797,
          100.2699966430664,
          100.30999755859375,
          102.54000091552734,
          102.54000091552734,
          103.45999908447266,
          103.19999694824219,
          102.52999877929688,
          103.16999816894531,
          102.19999694824219,
          102.93000030517578,
          102.68000030517578,
          102.87999725341797,
          105.33999633789062,
          103.63999938964844,
          101.75,
          101.81999969482422,
          102.81999969482422,
          101.38999938964844,
          100.29000091552734,
          98.29000091552734,
          98.56999969482422,
          99.2300033569336,
          98.43000030517578,
          100.08000183105469,
          100.70999908447266,
          99.68000030517578,
          99.97000122070312,
          100.05000305175781,
          99.66000366210938,
          100.61000061035156,
          101.25,
          101.7300033569336,
          101.56999969482422,
          99.69000244140625,
          99.5999984741211,
          100.29000091552734,
          101.16000366210938,
          100.43000030517578,
          102.56999969482422,
          103.55000305175781,
          103.37000274658203,
          103.68000030517578,
          104.05000305175781,
          103.69999694824219,
          103.70999908447266,
          104.33000183105469,
          104.3499984741211,
          104.3499984741211,
          101.69000244140625,
          101.47000122070312,
          102.19999694824219,
          100.8499984741211,
          101.12999725341797,
          101.55999755859375,
          100.06999969482422,
          99.69000244140625,
          100.08999633789062,
          99.73999786376953,
          99.80999755859375,
          101.05999755859375,
          100.5199966430664,
          100.31999969482422,
          100.88999938964844,
          102.01000213623047,
          102.62999725341797,
          101.73999786376953,
          102.30999755859375,
          102.94999694824219,
          102.80000305175781,
          104.30999755859375,
          104.02999877929688,
          105.01000213623047,
          104.77999877929688,
          104.77999877929688,
          103.37000274658203,
          104.26000213623047,
          103.4000015258789,
          103.06999969482422,
          103.33999633789062,
          103.2699966430664,
          103.16999816894531,
          103.31999969482422,
          105.08999633789062,
          105.0199966430664,
          105.04000091552734,
          107.19999694824219,
          107.48999786376953,
          107.5199966430664,
          106.94999694824219,
          106.63999938964844,
          107.08000183105469,
          107.94999694824219,
          106.83000183105469,
          106.63999938964844,
          107.04000091552734,
          106.48999786376953,
          106.45999908447266,
          106.06999969482422,
          106.05999755859375,
          105.18000030517578,
          104.76000213623047,
          104.19000244140625,
          104.19000244140625,
          104.05999755859375,
          102.93000030517578,
          103.61000061035156,
          101.4800033569336,
          101.7300033569336,
          100.55999755859375,
          101.87999725341797,
          103.83999633789062,
          103.83000183105469,
          105.33999633789062,
          104.58999633789062,
          103.80999755859375,
          102.76000213623047,
          105.2300033569336,
          105.68000030517578,
          104.91000366210938,
          104.29000091552734,
          98.2300033569336,
          97.86000061035156,
          98.26000213623047,
          97.33999633789062,
          96.93000030517578,
          97.33999633789062,
          97.61000061035156,
          98.08999633789062,
          97.36000061035156,
          97.56999969482422,
          95.54000091552734,
          97.30000305175781,
          96.44000244140625,
          94.3499984741211,
          96.4000015258789,
          93.97000122070312,
          93.61000061035156,
          95.38999938964844,
          95.77999877929688,
          95.81999969482422,
          96.44000244140625,
          97.86000061035156,
          92.91999816894531,
          92.91999816894531,
          95.5,
          94.51000213623047,
          93.31999969482422,
          92.63999938964844,
          92.7300033569336,
          91.70999908447266,
          92.88999938964844,
          92.18000030517578,
          92.86000061035156,
          94.91000366210938,
          94.33000183105469,
          93.06999969482422,
          92.43000030517578,
          91.45999908447266,
          91.55000305175781,
          93.5999984741211,
          93.58999633789062,
          95.55000305175781,
          94.52999877929688,
          91.16999816894531,
          90.73999786376953,
          91.0199966430664,
          89.76000213623047,
          90.33000183105469,
          88.88999938964844,
          87.29000091552734,
          85.76000213623047,
          85.87000274658203,
          85.7300033569336,
          81.72000122070312,
          81.81999969482422,
          82.33000183105469,
          82.80000305175781,
          82.76000213623047,
          83.25,
          80.5199966430664,
          82.80999755859375,
          81.2699966430664,
          81.26000213623047,
          81.36000061035156,
          82.25,
          81.05999755859375,
          80.52999877929688,
          78.7699966430664,
          77.1500015258789,
          78.70999908447266,
          77.87000274658203,
          78.70999908447266,
          77.43000030517578,
          77.8499984741211,
          77.16000366210938,
          74.12999725341797,
          75.91000366210938,
          75.63999938964844,
          74.55000305175781,
          74.55000305175781,
          75.62999725341797,
          76.5199966430664,
          75.73999786376953,
          74.04000091552734,
          73.69999694824219,
          65.94000244140625,
          65.94000244140625,
          68.9800033569336,
          66.98999786376953,
          67.30000305175781,
          66.7300033569336,
          65.88999938964844,
          63.130001068115234,
          63.7400016784668,
          60.9900016784668,
          60.0099983215332,
          57.810001373291016,
          55.959999084472656,
          55.970001220703125,
          56.43000030517578,
          54.18000030517578,
          56.90999984741211,
          55.25,
          56.779998779296875,
          55.70000076293945,
          54.59000015258789,
          54.59000015258789,
          53.459999084472656,
          54.13999938964844,
          53.45000076293945,
          52.720001220703125,
          52.720001220703125,
          50.04999923706055,
          47.97999954223633,
          48.689998626708984,
          48.79999923706055,
          48.349998474121094,
          46.060001373291016,
          45.91999816894531,
          48.4900016784668,
          46.369998931884766,
          48.4900016784668,
          46.790000915527344,
          46.790000915527344,
          47.849998474121094,
          45.93000030517578,
          45.2599983215332,
          44.79999923706055,
          45.84000015258789,
          44.08000183105469,
          44.119998931884766,
          47.790000915527344,
          49.25,
          53.040000915527344,
          48.45000076293945,
          50.47999954223633,
          51.65999984741211,
          52.9900016784668,
          50.060001373291016,
          48.79999923706055,
          51.16999816894531,
          52.65999984741211,
          53.560001373291016,
          53.560001373291016,
          52.130001068115234,
          51.119998931884766,
          49.95000076293945,
          49.560001373291016,
          48.47999954223633,
          50.25,
          47.650001525878906,
          49.84000015258789,
          49.59000015258789,
          50.43000030517578,
          51.529998779296875,
          50.7599983215332,
          49.61000061035156,
          49.95000076293945,
          48.41999816894531,
          48.060001373291016,
          47.119998931884766,
          44.880001068115234,
          43.93000030517578,
          43.38999938964844,
          44.630001068115234,
          44.02000045776367,
          46,
          47.400001525878906,
          47.029998779296875,
          48.75,
          51.40999984741211,
          48.83000183105469,
          48.65999984741211,
          47.720001220703125,
          50.119998931884766,
          49.130001068115234,
          52.08000183105469,
          52.08000183105469,
          53.95000076293945,
          50.439998626708984,
          50.790000915527344,
          51.630001068115234,
          51.95000076293945,
          53.29999923706055,
          56.25,
          56.689998626708984,
          55.709999084472656,
          56.369998931884766,
          55.58000183105469,
          56.16999816894531,
          56.59000015258789,
          55.97999954223633,
          55.560001373291016,
          57.04999923706055,
          58.54999923706055,
          59.619998931884766,
          59.099998474121094,
          58.91999816894531,
          60.380001068115234,
          60.93000030517578,
          58.9900016784668,
          59.40999984741211,
          59.22999954223633,
          60.720001220703125,
          60.5,
          59.88999938964844,
          59.72999954223633,
          59.439998626708984,
          57.29999923706055,
          58.959999084472656,
          60.18000030517578,
          58.880001068115234,
          57.290000915527344,
          57.290000915527344,
          57.5099983215332,
          57.689998626708984,
          60.25,
          60.2400016784668,
          61.29999923706055,
          59.66999816894531,
          58,
          59.11000061035156,
          58.150001525878906,
          60.150001525878906,
          61.36000061035156,
          60.7400016784668,
          59.959999084472656,
          59.529998779296875,
          60.0099983215332,
          59.88999938964844,
          60.40999984741211,
          59.619998931884766,
          60.0099983215332,
          61.04999923706055,
          60.0099983215332,
          59.59000015258789,
          59.40999984741211,
          58.34000015258789,
          59.47999954223633,
          56.939998626708984,
          56.93000030517578,
          52.47999954223633,
          52.47999954223633,
          52.33000183105469,
          51.61000061035156,
          52.7599983215332,
          52.7400016784668,
          52.189998626708984,
          53.04999923706055,
          51.400001525878906,
          50.900001525878906,
          50.880001068115234,
          50.11000061035156,
          50.59000015258789,
          49.27000045776367,
          48.11000061035156,
          47.97999954223633,
          47.16999816894531,
          47.970001220703125,
          48.77000045776367,
          48.529998779296875,
          47.11000061035156,
          45.25,
          45.75,
          45.130001068115234,
          44.689998626708984,
          43.869998931884766,
          44.939998626708984,
          43.11000061035156,
          43.220001220703125,
          42.27000045776367,
          42.45000076293945,
          41.93000030517578,
          42.58000183105469,
          40.75,
          41,
          40.45000076293945,
          38.220001220703125,
          39.150001525878906,
          38.5,
          42.470001220703125,
          45.290000915527344,
          49.20000076293945,
          45.380001068115234,
          46.29999923706055,
          46.75,
          46.02000045776367,
          45.91999816894531,
          45.91999816894531,
          44.130001068115234,
          45.849998474121094,
          44.75,
          44.06999969482422,
          44.58000183105469,
          47.119998931884766,
          46.93000030517578,
          44.709999084472656,
          46.66999816894531,
          46.16999816894531,
          44.529998779296875,
          44.939998626708984,
          45.54999923706055,
          44.400001525878906,
          45.2400016784668,
          45.060001373291016,
          44.75,
          45.540000915527344,
          46.279998779296875,
          48.529998779296875,
          47.86000061035156,
          49.459999084472656,
          49.66999816894531,
          47.09000015258789,
          46.70000076293945,
          46.630001068115234,
          46.380001068115234,
          47.29999923706055,
          45.90999984741211,
          45.84000015258789,
          45.220001220703125,
          44.900001525878906,
          43.90999984741211,
          43.189998626708984,
          43.209999084472656,
          45.93000030517578,
          46.02000045776367,
          46.599998474121094,
          46.119998931884766,
          47.880001068115234,
          46.31999969482422,
          45.27000045776367,
          44.31999969482422,
          43.869998931884766,
          44.22999954223633,
          42.95000076293945,
          41.7400016784668,
          40.689998626708984,
          41.68000030517578,
          40.72999954223633,
          40.75,
          40.54999923706055,
          39.38999938964844,
          39.27000045776367,
          40.88999938964844,
          41.220001220703125,
          40.56999969482422,
          40.56999969482422,
          40.43000030517578,
          40.58000183105469,
          39.93000030517578,
          41.08000183105469,
          40,
          37.63999938964844,
          37.459999084472656,
          37.15999984741211,
          36.7599983215332,
          35.650001525878906,
          36.310001373291016,
          37.31999969482422,
          35.54999923706055,
          34.97999954223633,
          34.720001220703125,
          34.54999923706055,
          36.119998931884766,
          36.7599983215332,
          37.619998931884766,
          36.36000061035156,
          36.36000061035156,
          37.880001068115234,
          36.59000015258789,
          37.130001068115234,
          36.810001373291016,
          36.810001373291016,
          35.970001220703125,
          33.970001220703125,
          33.290000915527344,
          33.20000076293945,
          31.420000076293945,
          30.420000076293945,
          30.420000076293945,
          31.219999313354492,
          29.450000762939453,
          28.469999313354492,
          28.469999313354492,
          26.68000030517578,
          29.549999237060547,
          32.06999969482422,
          30.309999465942383,
          29.540000915527344,
          32.31999969482422,
          33.209999084472656,
          33.65999984741211,
          31.6200008392334,
          29.899999618530273,
          32.290000915527344,
          31.6299991607666,
          30.860000610351562,
          29.709999084472656,
          27.959999084472656,
          27.540000915527344,
          26.190000534057617,
          29.31999969482422,
          29.049999237060547,
          29.049999237060547,
          30.68000030517578,
          30.770000457763672,
          29.59000015258789,
          31.3700008392334,
          31.84000015258789,
          30.350000381469727,
          31.399999618530273,
          31.649999618530273,
          32.7400016784668,
          34.38999938964844,
          34.56999969482422,
          34.560001373291016,
          35.90999984741211,
          37.900001525878906,
          36.66999816894531,
          37.619998931884766,
          37.77000045776367,
          38.5099983215332,
          37.20000076293945,
          36.31999969482422,
          38.43000030517578,
          40.16999816894531,
          39.470001220703125,
          39.90999984741211,
          41.45000076293945,
          38.279998779296875,
          38.13999938964844,
          37.9900016784668,
          37.9900016784668,
          36.90999984741211,
          36.90999984741211,
          36.939998626708984,
          35.36000061035156,
          34.29999923706055,
          34.52000045776367,
          37.7400016784668,
          37.29999923706055,
          39.7400016784668,
          40.459999084472656,
          42.119998931884766,
          41.70000076293945,
          41.45000076293945,
          40.400001525878906,
          39.7400016784668,
          40.880001068115234,
          42.720001220703125,
          43.18000030517578,
          42.7599983215332,
          41.66999816894531,
          42.52000045776367,
          45.290000915527344,
          46.029998779296875,
          45.97999954223633,
          44.75,
          43.650001525878906,
          43.77000045776367,
          44.33000183105469,
          44.58000183105469,
          43.45000076293945,
          44.68000030517578,
          46.209999084472656,
          46.63999938964844,
          46.220001220703125,
          47.720001220703125,
          48.290000915527344,
          48.119998931884766,
          48.15999984741211,
          47.66999816894531,
          48.119998931884766,
          48.040000915527344,
          49.099998474121094,
          49,
          49.36000061035156,
          49.099998474121094,
          49.099998474121094,
          49.06999969482422,
          49.13999938964844,
          48.689998626708984,
          49.709999084472656,
          50.369998931884766,
          51.22999954223633,
          50.52000045776367,
          49.09000015258789,
          48.88999938964844,
          48.4900016784668,
          47.91999816894531,
          46.13999938964844,
          48,
          49.400001525878906,
          48.95000076293945,
          49.15999984741211,
          49.34000015258789,
          46.70000076293945,
          45.79999923706055,
          47.93000030517578,
          49.849998474121094,
          48.27000045776367,
          49.02000045776367,
          46.72999954223633,
          46.72999954223633,
          47.369998931884766,
          45.220001220703125,
          45.369998931884766,
          44.72999954223633,
          46.81999969482422,
          44.869998931884766,
          45.63999938964844,
          45.93000030517578,
          45.22999954223633,
          44.63999938964844,
          44.959999084472656,
          43.959999084472656,
          43.40999984741211,
          42.400001525878906,
          42.15999984741211,
          41.900001525878906,
          41.130001068115234,
          41.540000915527344,
          40.04999923706055,
          39.5,
          40.79999923706055,
          41.91999816894531,
          41.83000183105469,
          43.060001373291016,
          42.779998779296875,
          41.75,
          43.5099983215332,
          44.470001220703125,
          45.720001220703125,
          46.56999969482422,
          46.810001373291016,
          48.20000076293945,
          48.47999954223633,
          46.79999923706055,
          47.540000915527344,
          46.290000915527344,
          46.970001220703125,
          47.63999938964844,
          46.970001220703125,
          46.31999969482422,
          44.68000030517578,
          43.16999816894531,
          44.38999938964844,
          44.849998474121094,
          44.849998474121094,
          45.470001220703125,
          47.630001068115234,
          45.880001068115234,
          46.279998779296875,
          44.90999984741211,
          43.619998931884766,
          43.849998474121094,
          43.040000915527344,
          43.34000015258789,
          43.849998474121094,
          45.33000183105469,
          46.099998474121094,
          44.36000061035156,
          45.599998474121094,
          44.650001525878906,
          47.06999969482422,
          47.720001220703125,
          47.720001220703125,
          48.79999923706055,
          48.66999816894531,
          49.75,
          50.439998626708984,
          49.7599983215332,
          49.7599983215332,
          50.720001220703125,
          50.13999938964844,
          50.470001220703125,
          50.349998474121094,
          49.970001220703125,
          50.29999923706055,
          51.59000015258789,
          50.310001373291016,
          50.61000061035156,
          50.18000030517578,
          49.45000076293945,
          48.75,
          49.709999084472656,
          48.720001220703125,
          46.83000183105469,
          46.65999984741211,
          45.31999969482422,
          44.65999984741211,
          44.06999969482422,
          44.880001068115234,
          44.959999084472656,
          45.20000076293945,
          44.619998931884766,
          43.38999938964844,
          43.290000915527344,
          45.86000061035156,
          45.560001373291016,
          45.369998931884766,
          45.689998626708984,
          47.47999954223633,
          48.06999969482422,
          46.720001220703125,
          46.720001220703125,
          46.720001220703125,
          45.65999984741211,
          45.290000915527344,
          49.40999984741211,
          51.08000183105469,
          51.70000076293945,
          51.720001220703125,
          50.95000076293945,
          49.849998474121094,
          50.84000015258789,
          51.5099983215332,
          52.7400016784668,
          52.9900016784668,
          51.0099983215332,
          50.900001525878906,
          51.93000030517578,
          52.130001068115234,
          52.220001220703125,
          51.439998626708984,
          51.97999954223633,
          52.0099983215332,
          52.81999969482422,
          52.81999969482422,
          54.0099983215332,
          53.79999923706055,
          53.75,
          52.36000061035156,
          52.36000061035156,
          53.2599983215332,
          53.77000045776367,
          53.97999954223633,
          51.95000076293945,
          50.81999969482422,
          52.189998626708984,
          53.0099983215332,
          52.36000061035156,
          52.45000076293945,
          52.45000076293945,
          51.119998931884766,
          51.38999938964844,
          52.33000183105469,
          52.77000045776367,
          52.380001068115234,
          52.13999938964844,
          53.2400016784668,
          53.18000030517578,
          52.630001068115234,
          52.75,
          53.900001525878906,
          53.54999923706055,
          53.810001373291016,
          53.0099983215332,
          52.189998626708984,
          52.369998931884766,
          52.9900016784668,
          53.84000015258789,
          52.959999084472656,
          53.209999084472656,
          53.11000061035156,
          53.40999984741211,
          53.40999984741211,
          54.02000045776367,
          54.02000045776367,
          53.61000061035156,
          54.47999954223633,
          53.9900016784668,
          54.040000915527344,
          54,
          53.81999969482422,
          52.630001068115234,
          53.33000183105469,
          53.189998626708984,
          52.68000030517578,
          49.83000183105469,
          48.75,
          48.04999923706055,
          47.95000076293945,
          47.2400016784668,
          48.34000015258789,
          48.29999923706055,
          48.34000015258789,
          47.790000915527344,
          47.02000045776367,
          47.290000915527344,
          47,
          47.29999923706055,
          47.02000045776367,
          48.36000061035156,
          49.470001220703125,
          50.29999923706055,
          50.540000915527344,
          50.25,
          50.9900016784668,
          51.13999938964844,
          51.689998626708984,
          52.25,
          53.060001373291016,
          53.380001068115234,
          53.119998931884766,
          53.189998626708984,
          52.619998931884766,
          52.619998931884766,
          52.459999084472656,
          50.4900016784668,
          50.2599983215332,
          49.63999938964844,
          48.900001525878906,
          49.220001220703125,
          49.220001220703125,
          48.959999084472656,
          49.310001373291016,
          48.83000183105469,
          47.650001525878906,
          47.790000915527344,
          45.54999923706055,
          46.22999954223633,
          46.459999084472656,
          45.84000015258789,
          47.279998779296875,
          47.810001373291016,
          47.83000183105469,
          48.86000061035156,
          48.63999938964844,
          49.040000915527344,
          49.36000061035156,
          50.31999969482422,
          50.810001373291016,
          51.119998931884766,
          50.9900016784668,
          48.56999969482422,
          49.58000183105469,
          49.630001068115234,
          49.630001068115234,
          48.290000915527344,
          48.31999969482422,
          47.68000030517578,
          47.400001525878906,
          48.130001068115234,
          45.79999923706055,
          45.68000030517578,
          45.81999969482422,
          46.099998474121094,
          46.40999984741211,
          44.790000915527344,
          44.470001220703125,
          44.72999954223633,
          44.2400016784668,
          43.34000015258789,
          42.47999954223633,
          42.529998779296875,
          42.86000061035156,
          43.2400016784668,
          44.25,
          44.7400016784668,
          44.880001068115234,
          46.02000045776367,
          45.11000061035156,
          45.11000061035156,
          45.11000061035156,
          45.52000045776367,
          44.25,
          44.400001525878906,
          45.060001373291016,
          45.47999954223633,
          46.060001373291016,
          46.529998779296875,
          46.02000045776367,
          46.400001525878906,
          47.099998474121094,
          46.72999954223633,
          45.779998779296875,
          46.209999084472656,
          47.77000045776367,
          48.58000183105469,
          49.04999923706055,
          49.720001220703125,
          50.209999084472656,
          49.189998626708984,
          49.599998474121094,
          49.029998779296875,
          49.56999969482422,
          49.369998931884766,
          49.06999969482422,
          49.59000015258789,
          48.540000915527344,
          48.810001373291016,
          47.59000015258789,
          47.56999969482422,
          46.79999923706055,
          47.06999969482422,
          48.59000015258789,
          47.38999938964844,
          47.650001525878906,
          48.45000076293945,
          47.2400016784668,
          47.650001525878906,
          46.400001525878906,
          46.459999084472656,
          45.959999084472656,
          47.2599983215332
         ],
         "yaxis": "y"
        }
       ],
       "layout": {
        "legend": {
         "tracegroupgap": 0
        },
        "margin": {
         "t": 60
        },
        "template": {
         "data": {
          "bar": [
           {
            "error_x": {
             "color": "#2a3f5f"
            },
            "error_y": {
             "color": "#2a3f5f"
            },
            "marker": {
             "line": {
              "color": "#E5ECF6",
              "width": 0.5
             },
             "pattern": {
              "fillmode": "overlay",
              "size": 10,
              "solidity": 0.2
             }
            },
            "type": "bar"
           }
          ],
          "barpolar": [
           {
            "marker": {
             "line": {
              "color": "#E5ECF6",
              "width": 0.5
             },
             "pattern": {
              "fillmode": "overlay",
              "size": 10,
              "solidity": 0.2
             }
            },
            "type": "barpolar"
           }
          ],
          "carpet": [
           {
            "aaxis": {
             "endlinecolor": "#2a3f5f",
             "gridcolor": "white",
             "linecolor": "white",
             "minorgridcolor": "white",
             "startlinecolor": "#2a3f5f"
            },
            "baxis": {
             "endlinecolor": "#2a3f5f",
             "gridcolor": "white",
             "linecolor": "white",
             "minorgridcolor": "white",
             "startlinecolor": "#2a3f5f"
            },
            "type": "carpet"
           }
          ],
          "choropleth": [
           {
            "colorbar": {
             "outlinewidth": 0,
             "ticks": ""
            },
            "type": "choropleth"
           }
          ],
          "contour": [
           {
            "colorbar": {
             "outlinewidth": 0,
             "ticks": ""
            },
            "colorscale": [
             [
              0,
              "#0d0887"
             ],
             [
              0.1111111111111111,
              "#46039f"
             ],
             [
              0.2222222222222222,
              "#7201a8"
             ],
             [
              0.3333333333333333,
              "#9c179e"
             ],
             [
              0.4444444444444444,
              "#bd3786"
             ],
             [
              0.5555555555555556,
              "#d8576b"
             ],
             [
              0.6666666666666666,
              "#ed7953"
             ],
             [
              0.7777777777777778,
              "#fb9f3a"
             ],
             [
              0.8888888888888888,
              "#fdca26"
             ],
             [
              1,
              "#f0f921"
             ]
            ],
            "type": "contour"
           }
          ],
          "contourcarpet": [
           {
            "colorbar": {
             "outlinewidth": 0,
             "ticks": ""
            },
            "type": "contourcarpet"
           }
          ],
          "heatmap": [
           {
            "colorbar": {
             "outlinewidth": 0,
             "ticks": ""
            },
            "colorscale": [
             [
              0,
              "#0d0887"
             ],
             [
              0.1111111111111111,
              "#46039f"
             ],
             [
              0.2222222222222222,
              "#7201a8"
             ],
             [
              0.3333333333333333,
              "#9c179e"
             ],
             [
              0.4444444444444444,
              "#bd3786"
             ],
             [
              0.5555555555555556,
              "#d8576b"
             ],
             [
              0.6666666666666666,
              "#ed7953"
             ],
             [
              0.7777777777777778,
              "#fb9f3a"
             ],
             [
              0.8888888888888888,
              "#fdca26"
             ],
             [
              1,
              "#f0f921"
             ]
            ],
            "type": "heatmap"
           }
          ],
          "heatmapgl": [
           {
            "colorbar": {
             "outlinewidth": 0,
             "ticks": ""
            },
            "colorscale": [
             [
              0,
              "#0d0887"
             ],
             [
              0.1111111111111111,
              "#46039f"
             ],
             [
              0.2222222222222222,
              "#7201a8"
             ],
             [
              0.3333333333333333,
              "#9c179e"
             ],
             [
              0.4444444444444444,
              "#bd3786"
             ],
             [
              0.5555555555555556,
              "#d8576b"
             ],
             [
              0.6666666666666666,
              "#ed7953"
             ],
             [
              0.7777777777777778,
              "#fb9f3a"
             ],
             [
              0.8888888888888888,
              "#fdca26"
             ],
             [
              1,
              "#f0f921"
             ]
            ],
            "type": "heatmapgl"
           }
          ],
          "histogram": [
           {
            "marker": {
             "pattern": {
              "fillmode": "overlay",
              "size": 10,
              "solidity": 0.2
             }
            },
            "type": "histogram"
           }
          ],
          "histogram2d": [
           {
            "colorbar": {
             "outlinewidth": 0,
             "ticks": ""
            },
            "colorscale": [
             [
              0,
              "#0d0887"
             ],
             [
              0.1111111111111111,
              "#46039f"
             ],
             [
              0.2222222222222222,
              "#7201a8"
             ],
             [
              0.3333333333333333,
              "#9c179e"
             ],
             [
              0.4444444444444444,
              "#bd3786"
             ],
             [
              0.5555555555555556,
              "#d8576b"
             ],
             [
              0.6666666666666666,
              "#ed7953"
             ],
             [
              0.7777777777777778,
              "#fb9f3a"
             ],
             [
              0.8888888888888888,
              "#fdca26"
             ],
             [
              1,
              "#f0f921"
             ]
            ],
            "type": "histogram2d"
           }
          ],
          "histogram2dcontour": [
           {
            "colorbar": {
             "outlinewidth": 0,
             "ticks": ""
            },
            "colorscale": [
             [
              0,
              "#0d0887"
             ],
             [
              0.1111111111111111,
              "#46039f"
             ],
             [
              0.2222222222222222,
              "#7201a8"
             ],
             [
              0.3333333333333333,
              "#9c179e"
             ],
             [
              0.4444444444444444,
              "#bd3786"
             ],
             [
              0.5555555555555556,
              "#d8576b"
             ],
             [
              0.6666666666666666,
              "#ed7953"
             ],
             [
              0.7777777777777778,
              "#fb9f3a"
             ],
             [
              0.8888888888888888,
              "#fdca26"
             ],
             [
              1,
              "#f0f921"
             ]
            ],
            "type": "histogram2dcontour"
           }
          ],
          "mesh3d": [
           {
            "colorbar": {
             "outlinewidth": 0,
             "ticks": ""
            },
            "type": "mesh3d"
           }
          ],
          "parcoords": [
           {
            "line": {
             "colorbar": {
              "outlinewidth": 0,
              "ticks": ""
             }
            },
            "type": "parcoords"
           }
          ],
          "pie": [
           {
            "automargin": true,
            "type": "pie"
           }
          ],
          "scatter": [
           {
            "fillpattern": {
             "fillmode": "overlay",
             "size": 10,
             "solidity": 0.2
            },
            "type": "scatter"
           }
          ],
          "scatter3d": [
           {
            "line": {
             "colorbar": {
              "outlinewidth": 0,
              "ticks": ""
             }
            },
            "marker": {
             "colorbar": {
              "outlinewidth": 0,
              "ticks": ""
             }
            },
            "type": "scatter3d"
           }
          ],
          "scattercarpet": [
           {
            "marker": {
             "colorbar": {
              "outlinewidth": 0,
              "ticks": ""
             }
            },
            "type": "scattercarpet"
           }
          ],
          "scattergeo": [
           {
            "marker": {
             "colorbar": {
              "outlinewidth": 0,
              "ticks": ""
             }
            },
            "type": "scattergeo"
           }
          ],
          "scattergl": [
           {
            "marker": {
             "colorbar": {
              "outlinewidth": 0,
              "ticks": ""
             }
            },
            "type": "scattergl"
           }
          ],
          "scattermapbox": [
           {
            "marker": {
             "colorbar": {
              "outlinewidth": 0,
              "ticks": ""
             }
            },
            "type": "scattermapbox"
           }
          ],
          "scatterpolar": [
           {
            "marker": {
             "colorbar": {
              "outlinewidth": 0,
              "ticks": ""
             }
            },
            "type": "scatterpolar"
           }
          ],
          "scatterpolargl": [
           {
            "marker": {
             "colorbar": {
              "outlinewidth": 0,
              "ticks": ""
             }
            },
            "type": "scatterpolargl"
           }
          ],
          "scatterternary": [
           {
            "marker": {
             "colorbar": {
              "outlinewidth": 0,
              "ticks": ""
             }
            },
            "type": "scatterternary"
           }
          ],
          "surface": [
           {
            "colorbar": {
             "outlinewidth": 0,
             "ticks": ""
            },
            "colorscale": [
             [
              0,
              "#0d0887"
             ],
             [
              0.1111111111111111,
              "#46039f"
             ],
             [
              0.2222222222222222,
              "#7201a8"
             ],
             [
              0.3333333333333333,
              "#9c179e"
             ],
             [
              0.4444444444444444,
              "#bd3786"
             ],
             [
              0.5555555555555556,
              "#d8576b"
             ],
             [
              0.6666666666666666,
              "#ed7953"
             ],
             [
              0.7777777777777778,
              "#fb9f3a"
             ],
             [
              0.8888888888888888,
              "#fdca26"
             ],
             [
              1,
              "#f0f921"
             ]
            ],
            "type": "surface"
           }
          ],
          "table": [
           {
            "cells": {
             "fill": {
              "color": "#EBF0F8"
             },
             "line": {
              "color": "white"
             }
            },
            "header": {
             "fill": {
              "color": "#C8D4E3"
             },
             "line": {
              "color": "white"
             }
            },
            "type": "table"
           }
          ]
         },
         "layout": {
          "annotationdefaults": {
           "arrowcolor": "#2a3f5f",
           "arrowhead": 0,
           "arrowwidth": 1
          },
          "autotypenumbers": "strict",
          "coloraxis": {
           "colorbar": {
            "outlinewidth": 0,
            "ticks": ""
           }
          },
          "colorscale": {
           "diverging": [
            [
             0,
             "#8e0152"
            ],
            [
             0.1,
             "#c51b7d"
            ],
            [
             0.2,
             "#de77ae"
            ],
            [
             0.3,
             "#f1b6da"
            ],
            [
             0.4,
             "#fde0ef"
            ],
            [
             0.5,
             "#f7f7f7"
            ],
            [
             0.6,
             "#e6f5d0"
            ],
            [
             0.7,
             "#b8e186"
            ],
            [
             0.8,
             "#7fbc41"
            ],
            [
             0.9,
             "#4d9221"
            ],
            [
             1,
             "#276419"
            ]
           ],
           "sequential": [
            [
             0,
             "#0d0887"
            ],
            [
             0.1111111111111111,
             "#46039f"
            ],
            [
             0.2222222222222222,
             "#7201a8"
            ],
            [
             0.3333333333333333,
             "#9c179e"
            ],
            [
             0.4444444444444444,
             "#bd3786"
            ],
            [
             0.5555555555555556,
             "#d8576b"
            ],
            [
             0.6666666666666666,
             "#ed7953"
            ],
            [
             0.7777777777777778,
             "#fb9f3a"
            ],
            [
             0.8888888888888888,
             "#fdca26"
            ],
            [
             1,
             "#f0f921"
            ]
           ],
           "sequentialminus": [
            [
             0,
             "#0d0887"
            ],
            [
             0.1111111111111111,
             "#46039f"
            ],
            [
             0.2222222222222222,
             "#7201a8"
            ],
            [
             0.3333333333333333,
             "#9c179e"
            ],
            [
             0.4444444444444444,
             "#bd3786"
            ],
            [
             0.5555555555555556,
             "#d8576b"
            ],
            [
             0.6666666666666666,
             "#ed7953"
            ],
            [
             0.7777777777777778,
             "#fb9f3a"
            ],
            [
             0.8888888888888888,
             "#fdca26"
            ],
            [
             1,
             "#f0f921"
            ]
           ]
          },
          "colorway": [
           "#636efa",
           "#EF553B",
           "#00cc96",
           "#ab63fa",
           "#FFA15A",
           "#19d3f3",
           "#FF6692",
           "#B6E880",
           "#FF97FF",
           "#FECB52"
          ],
          "font": {
           "color": "#2a3f5f"
          },
          "geo": {
           "bgcolor": "white",
           "lakecolor": "white",
           "landcolor": "#E5ECF6",
           "showlakes": true,
           "showland": true,
           "subunitcolor": "white"
          },
          "hoverlabel": {
           "align": "left"
          },
          "hovermode": "closest",
          "mapbox": {
           "style": "light"
          },
          "paper_bgcolor": "white",
          "plot_bgcolor": "#E5ECF6",
          "polar": {
           "angularaxis": {
            "gridcolor": "white",
            "linecolor": "white",
            "ticks": ""
           },
           "bgcolor": "#E5ECF6",
           "radialaxis": {
            "gridcolor": "white",
            "linecolor": "white",
            "ticks": ""
           }
          },
          "scene": {
           "xaxis": {
            "backgroundcolor": "#E5ECF6",
            "gridcolor": "white",
            "gridwidth": 2,
            "linecolor": "white",
            "showbackground": true,
            "ticks": "",
            "zerolinecolor": "white"
           },
           "yaxis": {
            "backgroundcolor": "#E5ECF6",
            "gridcolor": "white",
            "gridwidth": 2,
            "linecolor": "white",
            "showbackground": true,
            "ticks": "",
            "zerolinecolor": "white"
           },
           "zaxis": {
            "backgroundcolor": "#E5ECF6",
            "gridcolor": "white",
            "gridwidth": 2,
            "linecolor": "white",
            "showbackground": true,
            "ticks": "",
            "zerolinecolor": "white"
           }
          },
          "shapedefaults": {
           "line": {
            "color": "#2a3f5f"
           }
          },
          "ternary": {
           "aaxis": {
            "gridcolor": "white",
            "linecolor": "white",
            "ticks": ""
           },
           "baxis": {
            "gridcolor": "white",
            "linecolor": "white",
            "ticks": ""
           },
           "bgcolor": "#E5ECF6",
           "caxis": {
            "gridcolor": "white",
            "linecolor": "white",
            "ticks": ""
           }
          },
          "title": {
           "x": 0.05
          },
          "xaxis": {
           "automargin": true,
           "gridcolor": "white",
           "linecolor": "white",
           "ticks": "",
           "title": {
            "standoff": 15
           },
           "zerolinecolor": "white",
           "zerolinewidth": 2
          },
          "yaxis": {
           "automargin": true,
           "gridcolor": "white",
           "linecolor": "white",
           "ticks": "",
           "title": {
            "standoff": 15
           },
           "zerolinecolor": "white",
           "zerolinewidth": 2
          }
         }
        },
        "title": {
         "text": "Trend of Oil Prices Over Time",
         "x": 0.5
        },
        "xaxis": {
         "anchor": "y",
         "domain": [
          0,
          1
         ],
         "title": {
          "text": "Date"
         }
        },
        "yaxis": {
         "anchor": "x",
         "domain": [
          0,
          1
         ],
         "title": {
          "text": "Oil Price"
         }
        }
       }
      }
     },
     "metadata": {},
     "output_type": "display_data"
    }
   ],
   "source": [
    "# Visualizing the 'dcoilwtico' column to confirm if the trend is consistent.\n",
    "fig = px.line(oil, x='date', y='dcoilwtico')\n",
    "fig.update_layout(title='Trend of Oil Prices Over Time', title_x=0.5, xaxis_title='Date', yaxis_title='Oil Price')\n",
    "fig.show()"
   ]
  },
  {
   "cell_type": "markdown",
   "metadata": {},
   "source": [
    "We can see that oil prices suffered a collapse towards the end of 2014 and have not recovered. In fact despite some volatility, oil prices are at the same level as they were in the beginning of 2015. As a result of this we may see a significant shift in store sales around late 2014. Looking at the unit sales data, this is not readily apparent. Although sales do appear to drop off in the early part of 2015, in late 2014 they are rising. Also, to add oil price drop doesn't seems to have any impact on the sales, as it was seen from the sales plot, there was no relation between oil price dropping on the sales, so we can say that this feature or data is of no importance to us and will not be considered during modelling."
   ]
  },
  {
   "cell_type": "markdown",
   "metadata": {},
   "source": [
    "### Multivariate"
   ]
  },
  {
   "cell_type": "code",
   "execution_count": null,
   "metadata": {},
   "outputs": [
    {
     "data": {
      "text/html": [
       "<div>\n",
       "<style scoped>\n",
       "    .dataframe tbody tr th:only-of-type {\n",
       "        vertical-align: middle;\n",
       "    }\n",
       "\n",
       "    .dataframe tbody tr th {\n",
       "        vertical-align: top;\n",
       "    }\n",
       "\n",
       "    .dataframe thead th {\n",
       "        text-align: right;\n",
       "    }\n",
       "</style>\n",
       "<table border=\"1\" class=\"dataframe\">\n",
       "  <thead>\n",
       "    <tr style=\"text-align: right;\">\n",
       "      <th></th>\n",
       "      <th>id</th>\n",
       "      <th>store_nbr</th>\n",
       "      <th>sales</th>\n",
       "      <th>onpromotion</th>\n",
       "      <th>cluster</th>\n",
       "      <th>transactions</th>\n",
       "      <th>transferred</th>\n",
       "      <th>dcoilwtico</th>\n",
       "    </tr>\n",
       "  </thead>\n",
       "  <tbody>\n",
       "    <tr>\n",
       "      <th>id</th>\n",
       "      <td>1.000000</td>\n",
       "      <td>0.013728</td>\n",
       "      <td>0.061237</td>\n",
       "      <td>0.181707</td>\n",
       "      <td>-0.018880</td>\n",
       "      <td>-0.018267</td>\n",
       "      <td>0.133468</td>\n",
       "      <td>-0.836786</td>\n",
       "    </tr>\n",
       "    <tr>\n",
       "      <th>store_nbr</th>\n",
       "      <td>0.013728</td>\n",
       "      <td>1.000000</td>\n",
       "      <td>0.051349</td>\n",
       "      <td>0.025992</td>\n",
       "      <td>-0.075667</td>\n",
       "      <td>0.171946</td>\n",
       "      <td>0.001440</td>\n",
       "      <td>-0.010286</td>\n",
       "    </tr>\n",
       "    <tr>\n",
       "      <th>sales</th>\n",
       "      <td>0.061237</td>\n",
       "      <td>0.051349</td>\n",
       "      <td>1.000000</td>\n",
       "      <td>0.418029</td>\n",
       "      <td>0.033868</td>\n",
       "      <td>0.203691</td>\n",
       "      <td>-0.007167</td>\n",
       "      <td>-0.062568</td>\n",
       "    </tr>\n",
       "    <tr>\n",
       "      <th>onpromotion</th>\n",
       "      <td>0.181707</td>\n",
       "      <td>0.025992</td>\n",
       "      <td>0.418029</td>\n",
       "      <td>1.000000</td>\n",
       "      <td>0.005895</td>\n",
       "      <td>0.038163</td>\n",
       "      <td>0.028325</td>\n",
       "      <td>-0.133799</td>\n",
       "    </tr>\n",
       "    <tr>\n",
       "      <th>cluster</th>\n",
       "      <td>-0.018880</td>\n",
       "      <td>-0.075667</td>\n",
       "      <td>0.033868</td>\n",
       "      <td>0.005895</td>\n",
       "      <td>1.000000</td>\n",
       "      <td>0.188876</td>\n",
       "      <td>-0.001880</td>\n",
       "      <td>0.021655</td>\n",
       "    </tr>\n",
       "    <tr>\n",
       "      <th>transactions</th>\n",
       "      <td>-0.018267</td>\n",
       "      <td>0.171946</td>\n",
       "      <td>0.203691</td>\n",
       "      <td>0.038163</td>\n",
       "      <td>0.188876</td>\n",
       "      <td>1.000000</td>\n",
       "      <td>-0.043902</td>\n",
       "      <td>-0.017944</td>\n",
       "    </tr>\n",
       "    <tr>\n",
       "      <th>transferred</th>\n",
       "      <td>0.133468</td>\n",
       "      <td>0.001440</td>\n",
       "      <td>-0.007167</td>\n",
       "      <td>0.028325</td>\n",
       "      <td>-0.001880</td>\n",
       "      <td>-0.043902</td>\n",
       "      <td>1.000000</td>\n",
       "      <td>-0.052458</td>\n",
       "    </tr>\n",
       "    <tr>\n",
       "      <th>dcoilwtico</th>\n",
       "      <td>-0.836786</td>\n",
       "      <td>-0.010286</td>\n",
       "      <td>-0.062568</td>\n",
       "      <td>-0.133799</td>\n",
       "      <td>0.021655</td>\n",
       "      <td>-0.017944</td>\n",
       "      <td>-0.052458</td>\n",
       "      <td>1.000000</td>\n",
       "    </tr>\n",
       "  </tbody>\n",
       "</table>\n",
       "</div>"
      ],
      "text/plain": [
       "                    id  store_nbr     sales  onpromotion   cluster  \\\n",
       "id            1.000000   0.013728  0.061237     0.181707 -0.018880   \n",
       "store_nbr     0.013728   1.000000  0.051349     0.025992 -0.075667   \n",
       "sales         0.061237   0.051349  1.000000     0.418029  0.033868   \n",
       "onpromotion   0.181707   0.025992  0.418029     1.000000  0.005895   \n",
       "cluster      -0.018880  -0.075667  0.033868     0.005895  1.000000   \n",
       "transactions -0.018267   0.171946  0.203691     0.038163  0.188876   \n",
       "transferred   0.133468   0.001440 -0.007167     0.028325 -0.001880   \n",
       "dcoilwtico   -0.836786  -0.010286 -0.062568    -0.133799  0.021655   \n",
       "\n",
       "              transactions  transferred  dcoilwtico  \n",
       "id               -0.018267     0.133468   -0.836786  \n",
       "store_nbr         0.171946     0.001440   -0.010286  \n",
       "sales             0.203691    -0.007167   -0.062568  \n",
       "onpromotion       0.038163     0.028325   -0.133799  \n",
       "cluster           0.188876    -0.001880    0.021655  \n",
       "transactions      1.000000    -0.043902   -0.017944  \n",
       "transferred      -0.043902     1.000000   -0.052458  \n",
       "dcoilwtico       -0.017944    -0.052458    1.000000  "
      ]
     },
     "execution_count": 141,
     "metadata": {},
     "output_type": "execute_result"
    }
   ],
   "source": [
    "num_data = ['sales','transactions','onpromotion','dcoilwtico']\n",
    "corr = data.corr(numeric_only=True)\n",
    "corr"
   ]
  },
  {
   "cell_type": "code",
   "execution_count": null,
   "metadata": {},
   "outputs": [
    {
     "data": {
      "image/png": "[encoded data removed]",
      "text/plain": [
       "<Figure size 640x480 with 2 Axes>"
      ]
     },
     "metadata": {},
     "output_type": "display_data"
    }
   ],
   "source": [
    "heatmap = sns.heatmap(data=corr,annot=True, cmap='viridis',fmt=\".2f\",xticklabels=True,yticklabels=True)\n",
    "\n",
    "plt.show()\n",
    "\n"
   ]
  },
  {
   "cell_type": "markdown",
   "metadata": {},
   "source": [
    "- Sales and Transactions:\n",
    "\n",
    "There is a weak positive correlation of approximately 0.200 between \"Sales\" and \"Transactions.\" This suggests that there is a slight positive relationship between the number of transactions and the sales. It implies that when the number of transactions increases, there is a tendency for sales to increase as well, although the correlation is not very strong.\n",
    "\n",
    "- Sales and Dcoilwito (Oil Prices):\n",
    "\n",
    "There is a weak negative correlation of approximately -0.062 between \"Sales\" and \"Dcoilwito\" (Oil Prices). This indicates a slight negative relationship between sales and oil prices. It suggests that as oil prices increase, there is a tendency for sales to decrease slightly, though the correlation is not significant.\n",
    "\n",
    "- Transactions and Dcoilwito (Oil Prices):\n",
    "\n",
    "There is a very weak negative correlation of approximately -0.017 between \"Transactions\" and \"Dcoilwito\" (Oil Prices). This suggests that there is almost no relationship between the number of transactions and oil prices. It indicates that fluctuations in oil prices do not have a significant impact on the number of transactions."
   ]
  },
  {
   "cell_type": "markdown",
   "metadata": {},
   "source": [
    "### 1)Is the train dataset complete (has all the required dates)?"
   ]
  },
  {
   "cell_type": "code",
   "execution_count": null,
   "metadata": {},
   "outputs": [],
   "source": [
    "data['date'] = pd.to_datetime(data['date'])\n",
    "min_date = data['date'].min()\n",
    "max_date = data['date'].max()\n",
    "expected_dates = pd.date_range(start=min_date, end=max_date)\n",
    " \n",
    "missing_dates = expected_dates[~expected_dates.isin(data['date'])]\n",
    " \n",
    "if len(missing_dates) == 0:\n",
    "    print(\"The train dataset is complete. It includes all the required dates.\")\n",
    "else:\n",
    "    print(\"The train dataset is incomplete. The following dates are missing:\")\n",
    "    print(missing_dates)"
   ]
  },
  {
   "cell_type": "code",
   "execution_count": null,
   "metadata": {},
   "outputs": [],
   "source": [
    "test['date'] = pd.to_datetime(test['date'])\n",
    "min_date = test['date'].min()\n",
    "max_date = test['date'].max()\n",
    "expected_dates = pd.date_range(start=min_date, end=max_date)\n",
    " \n",
    "missing_dates = expected_dates[~expected_dates.isin(data['date'])]\n",
    " \n",
    "if len(missing_dates) == 0:\n",
    "    print(\"The train dataset is complete. It includes all the required dates.\")\n",
    "else:\n",
    "    print(\"The train dataset is incomplete. The following dates are missing:\")\n",
    "    print(missing_dates)"
   ]
  },
  {
   "cell_type": "markdown",
   "metadata": {},
   "source": [
    "### 2) Which dates have the lowest and highest sales for each year?"
   ]
  },
  {
   "cell_type": "code",
   "execution_count": null,
   "metadata": {},
   "outputs": [],
   "source": [
    "#Extract the year from the 'date' column\n",
    "# data['year'] = data['date'].dt.year\n",
    "\n",
    "\n",
    "\n",
    "# #Group by year and find the dates with the lowest and highest sales\n",
    "# data = data.dropna(subset=['year'])\n",
    "\n",
    "# # Group by year and find the dates with the lowest and highest sales\n",
    "# min_dates = data.loc[data.groupby('date')['sales'].idxmin(), ['year', 'date', 'sales']]\n",
    "# max_dates = data.loc[data.groupby('date')['sales'].idxmax(), ['year', 'date', 'sales']]\n",
    "\n",
    "# # Display the results\n",
    "# print(\"Dates with the Lowest Sales for Each Year:\")\n",
    "# print(min_dates)\n",
    "\n",
    "# print(\"\\nDates with the Highest Sales for Each Year:\")\n",
    "# print(max_dates)"
   ]
  },
  {
   "cell_type": "markdown",
   "metadata": {},
   "source": [
    "### 3) Did the earthquake impact sales?"
   ]
  },
  {
   "cell_type": "code",
   "execution_count": null,
   "metadata": {},
   "outputs": [],
   "source": [
    "sales_2016 = data[data['year'] == 2016]\n",
    "\n",
    "# Extract months for the year 2016\n",
    "sales_2016_months = data_2016['month']\n",
    "\n",
    "# Display the results\n",
    "sales_2016_months"
   ]
  },
  {
   "cell_type": "code",
   "execution_count": null,
   "metadata": {},
   "outputs": [],
   "source": [
    "plt.figure(figsize=(8,6))\n",
    "\n",
    "sns.lineplot(x=sales_2016_months.values, y=sales_2016_months.index,color='orange')\n",
    "plt.xlabel('Year')\n",
    "plt.ylabel('Total Sales')\n",
    "plt.title('Total Sales per Year')\n",
    "plt.show()"
   ]
  },
  {
   "cell_type": "markdown",
   "metadata": {},
   "source": [
    "### 4) Are certain groups of stores selling more products? (Cluster, city, state, type)"
   ]
  },
  {
   "cell_type": "code",
   "execution_count": null,
   "metadata": {},
   "outputs": [],
   "source": [
    "result = (\n",
    "    data.groupby(['city','type'])['sales']\n",
    "    .count()\n",
    "    .sort_values(ascending=False)\n",
    "    .head()\n",
    "    \n",
    ")\n",
    "\n",
    "print(result)\n"
   ]
  },
  {
   "cell_type": "code",
   "execution_count": null,
   "metadata": {},
   "outputs": [],
   "source": [
    "plt.figure(figsize=(8,6))\n",
    "result.plot(kind='bar', color='pink')\n",
    "plt.xlabel('store_number')\n",
    "plt.ylabel('Sales')\n",
    "plt.title('Total sales based on Store number')\n",
    "plt.show();\n"
   ]
  },
  {
   "cell_type": "markdown",
   "metadata": {},
   "source": [
    "### 5) Are sales affected by promotions, oil prices and holidays?"
   ]
  },
  {
   "cell_type": "code",
   "execution_count": null,
   "metadata": {},
   "outputs": [],
   "source": [
    "#data['Year'] = data['date'].dt.year\n",
    "\n",
    "data.head(3)"
   ]
  },
  {
   "cell_type": "code",
   "execution_count": null,
   "metadata": {},
   "outputs": [],
   "source": [
    "data['type'].unique()"
   ]
  },
  {
   "cell_type": "code",
   "execution_count": null,
   "metadata": {},
   "outputs": [],
   "source": [
    "\n",
    "# Assuming 'type', 'onpromotion', and 'sales' are columns in your DataFrame\n",
    "variables = data[(data['type'] == 'Holiday') & (data['onpromotion'] >= 1)]\n",
    "\n",
    "# Group by the conditions and calculate the sum of 'sales' for each group\n",
    "result = groupby(variables)['sales'].sum()\n",
    "\n",
    "# Display the results\n",
    "print(result)\n",
    "\n",
    "\n",
    "# Display the results\n"
   ]
  },
  {
   "cell_type": "code",
   "execution_count": null,
   "metadata": {},
   "outputs": [],
   "source": [
    "T_promos = (\n",
    "    data.groupby(['onpromotions'])['sales']\n",
    "    .sum()\n",
    "    .sort_values(ascending=False)\n",
    "    .head()\n",
    "    .reset_index()  # Reset index to make it a DataFrame\n",
    ")\n",
    "\n",
    "\n",
    "\n",
    "T_promos.plot(kind='bar', color='skyblue')\n",
    "\n"
   ]
  },
  {
   "cell_type": "markdown",
   "metadata": {},
   "source": [
    "\n",
    "6) What analysis can we get from the date and its extractable features?\n"
   ]
  },
  {
   "cell_type": "code",
   "execution_count": null,
   "metadata": {},
   "outputs": [],
   "source": [
    "df = data.groupby('date')['sales'].sum()\n",
    "df"
   ]
  },
  {
   "cell_type": "code",
   "execution_count": null,
   "metadata": {},
   "outputs": [],
   "source": [
    "\n",
    "# Create a time series plot\n",
    "fig = px.line(data_frame=date, x='date', y='sales', title='Time Series Plot with Time Adjustments')\n",
    "\n",
    "# Show the plot\n",
    "fig.show()\n"
   ]
  },
  {
   "cell_type": "markdown",
   "metadata": {},
   "source": []
  }
 ],
 "metadata": {
  "kernelspec": {
   "display_name": "Python 3",
   "language": "python",
   "name": "python3"
  },
  "language_info": {
   "codemirror_mode": {
    "name": "ipython",
    "version": 3
   },
   "file_extension": ".py",
   "mimetype": "text/x-python",
   "name": "python",
   "nbconvert_exporter": "python",
   "pygments_lexer": "ipython3",
   "version": "3.10.11"
  },
  "orig_nbformat": 4
 },
 "nbformat": 4,
 "nbformat_minor": 2
}
